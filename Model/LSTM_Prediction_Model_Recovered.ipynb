{
 "cells": [
  {
   "cell_type": "markdown",
   "metadata": {},
   "source": [
    "# Import the Libraries "
   ]
  },
  {
   "cell_type": "code",
   "execution_count": 1,
   "metadata": {},
   "outputs": [],
   "source": [
    "import os\n",
    "import pandas as pd #for Data analysis\n",
    "import numpy as np  #for math purpose\n",
    "import matplotlib.pyplot as plt # for visualize\n",
    "import seaborn as sns\n",
    "import plotly.express as px\n",
    "from datetime import datetime, timedelta,date\n",
    "import plotly.graph_objects as go\n",
    "from keras.models import Sequential\n",
    "from keras.layers import Dense, LSTM\n",
    "from keras.layers import Dropout\n",
    "from matplotlib import pyplot\n",
    "from keras import optimizers\n",
    "from keras.optimizers import Adam\n",
    "from sklearn.datasets import make_circles\n",
    "from sklearn.metrics import accuracy_score\n",
    "from sklearn.metrics import precision_score\n",
    "from sklearn.metrics import recall_score\n",
    "from sklearn.metrics import f1_score\n",
    "from sklearn.metrics import cohen_kappa_score\n",
    "from sklearn.metrics import roc_auc_score\n",
    "from sklearn.metrics import confusion_matrix\n",
    "from keras.models import Sequential\n",
    "from keras.layers import Dense\n",
    "from sklearn.metrics import mean_squared_error\n",
    "from math import * \n",
    "from sklearn.metrics import r2_score\n",
    "\n",
    "sns.set_style('whitegrid')\n",
    "plt.style.use(\"fivethirtyeight\")\n",
    "%matplotlib inline"
   ]
  },
  {
   "cell_type": "markdown",
   "metadata": {},
   "source": [
    "# Import the Dataset"
   ]
  },
  {
   "cell_type": "code",
   "execution_count": 38,
   "metadata": {},
   "outputs": [],
   "source": [
    "#url = 'https://drive.google.com/file/d/1urSCO_dPfMclcyMQuLCiNpxWCNeqyT1I/view?usp=sharing'\n",
    "#path = 'https://drive.google.com/uc?export=download&id='+url.split('/')[-2]\n",
    "#df_germany = pd.read_csv(path)"
   ]
  },
  {
   "cell_type": "code",
   "execution_count": 2,
   "metadata": {},
   "outputs": [],
   "source": [
    "df_germany = pd.read_csv(r'C:/Users/asifi/Documents/Lab_spatia_data/iteration2/kaggle/input/covid_de.csv')"
   ]
  },
  {
   "cell_type": "code",
   "execution_count": 3,
   "metadata": {},
   "outputs": [],
   "source": [
    "nordrhein = df_germany.loc[df_germany['state'] == 'Nordrhein-Westfalen']\n",
    "baden = df_germany.loc[df_germany['state'] == 'Baden-Wuerttemberg']\n",
    "bayern = df_germany.loc[df_germany['state'] == 'Bayern']\n",
    "berlin = df_germany.loc[df_germany['state'] == 'Berlin']\n",
    "brandenburg = df_germany.loc[df_germany['state'] == 'Brandenburg']\n",
    "bremen = df_germany.loc[df_germany['state'] == 'Bremen']\n",
    "hamburg = df_germany.loc[df_germany['state'] == 'Hamburg']\n",
    "hessen = df_germany.loc[df_germany['state'] == 'Hessen']\n",
    "mecklenburg = df_germany.loc[df_germany['state'] == 'Mecklenburg-Vorpommern']\n",
    "niedersachsen = df_germany.loc[df_germany['state'] == 'Niedersachsen']\n",
    "rheinland= df_germany.loc[df_germany['state'] == 'Rheinland-Pfalz']\n",
    "saarland = df_germany.loc[df_germany['state'] == 'Saarland']\n",
    "sachsen = df_germany.loc[df_germany['state'] == 'Sachsen']\n",
    "sachsen_anhalt = df_germany.loc[df_germany['state'] == 'Sachsen-Anhalt']\n",
    "schleswig = df_germany.loc[df_germany['state'] == 'Schleswig-Holstein']\n",
    "thueringen = df_germany.loc[df_germany['state'] == 'Thueringen']"
   ]
  },
  {
   "cell_type": "markdown",
   "metadata": {},
   "source": [
    "# State"
   ]
  },
  {
   "cell_type": "code",
   "execution_count": 4,
   "metadata": {},
   "outputs": [],
   "source": [
    "total = nordrhein.groupby(['date']).sum().reset_index()"
   ]
  },
  {
   "cell_type": "code",
   "execution_count": 5,
   "metadata": {},
   "outputs": [],
   "source": [
    "total = total.set_index(pd.DatetimeIndex(total['date']))\n",
    "total = total.drop(['date'], axis=1)"
   ]
  },
  {
   "cell_type": "code",
   "execution_count": 6,
   "metadata": {
    "scrolled": true
   },
   "outputs": [
    {
     "data": {
      "text/html": [
       "<div>\n",
       "<style scoped>\n",
       "    .dataframe tbody tr th:only-of-type {\n",
       "        vertical-align: middle;\n",
       "    }\n",
       "\n",
       "    .dataframe tbody tr th {\n",
       "        vertical-align: top;\n",
       "    }\n",
       "\n",
       "    .dataframe thead th {\n",
       "        text-align: right;\n",
       "    }\n",
       "</style>\n",
       "<table border=\"1\" class=\"dataframe\">\n",
       "  <thead>\n",
       "    <tr style=\"text-align: right;\">\n",
       "      <th></th>\n",
       "      <th>cases</th>\n",
       "      <th>deaths</th>\n",
       "      <th>recovered</th>\n",
       "      <th>death_rate</th>\n",
       "      <th>recovered_rate</th>\n",
       "    </tr>\n",
       "    <tr>\n",
       "      <th>date</th>\n",
       "      <th></th>\n",
       "      <th></th>\n",
       "      <th></th>\n",
       "      <th></th>\n",
       "      <th></th>\n",
       "    </tr>\n",
       "  </thead>\n",
       "  <tbody>\n",
       "    <tr>\n",
       "      <th>2020-01-02</th>\n",
       "      <td>3</td>\n",
       "      <td>0</td>\n",
       "      <td>3</td>\n",
       "      <td>0.0</td>\n",
       "      <td>100.0</td>\n",
       "    </tr>\n",
       "    <tr>\n",
       "      <th>2020-01-03</th>\n",
       "      <td>5</td>\n",
       "      <td>0</td>\n",
       "      <td>5</td>\n",
       "      <td>0.0</td>\n",
       "      <td>100.0</td>\n",
       "    </tr>\n",
       "  </tbody>\n",
       "</table>\n",
       "</div>"
      ],
      "text/plain": [
       "            cases  deaths  recovered  death_rate  recovered_rate\n",
       "date                                                            \n",
       "2020-01-02      3       0          3         0.0           100.0\n",
       "2020-01-03      5       0          5         0.0           100.0"
      ]
     },
     "execution_count": 6,
     "metadata": {},
     "output_type": "execute_result"
    }
   ],
   "source": [
    "total['death_rate']=total.apply(lambda x: (x.deaths / x.cases)*100, axis = 1)\n",
    "total['recovered_rate']=total.apply(lambda x: (x.recovered / x.cases)*100, axis = 1)\n",
    "total.head(2)"
   ]
  },
  {
   "cell_type": "markdown",
   "metadata": {},
   "source": [
    "# Feature Engineering"
   ]
  },
  {
   "cell_type": "code",
   "execution_count": 7,
   "metadata": {},
   "outputs": [],
   "source": [
    "from sklearn.preprocessing import MinMaxScaler\n",
    "scaling  = MinMaxScaler()\n",
    "total[['death_rate','recovered_rate']] = scaling.fit_transform(total[['death_rate','recovered_rate']])"
   ]
  },
  {
   "cell_type": "code",
   "execution_count": 9,
   "metadata": {},
   "outputs": [
    {
     "data": {
      "image/png": "[encoded data removed]",
      "text/plain": [
       "<Figure size 1152x576 with 1 Axes>"
      ]
     },
     "metadata": {
      "needs_background": "light"
     },
     "output_type": "display_data"
    }
   ],
   "source": [
    "plt.figure(figsize=(16,8))\n",
    "plt.title('Recovered Rate in Nordrhein-Westfalen')\n",
    "plt.plot(total['recovered_rate'], color='g')\n",
    "plt.xlabel(\"Date\", fontsize=18)\n",
    "plt.ylabel('Recovered Rate (%)', fontsize=18)\n",
    "plt.savefig('Recovered Rate in Nordrhein-Westfalen.png',dpi=50)\n",
    "plt.show()"
   ]
  },
  {
   "cell_type": "markdown",
   "metadata": {},
   "source": [
    "#### Remove Skewness"
   ]
  },
  {
   "cell_type": "code",
   "execution_count": 10,
   "metadata": {},
   "outputs": [
    {
     "data": {
      "text/plain": [
       "0.2739361928675075"
      ]
     },
     "execution_count": 10,
     "metadata": {},
     "output_type": "execute_result"
    }
   ],
   "source": [
    "from scipy.stats import skew\n",
    "total['death_rate']= np.sqrt(total['death_rate'])\n",
    "skew(total['death_rate'])"
   ]
  },
  {
   "cell_type": "code",
   "execution_count": 11,
   "metadata": {},
   "outputs": [
    {
     "data": {
      "image/png": "[encoded data removed]",
      "text/plain": [
       "<Figure size 1152x576 with 1 Axes>"
      ]
     },
     "metadata": {
      "needs_background": "light"
     },
     "output_type": "display_data"
    }
   ],
   "source": [
    "plt.figure(figsize=(16,8))\n",
    "plt.title('Recovered Rate in Nordrhein-Westfalen')\n",
    "plt.plot(total['recovered_rate'], color='g')\n",
    "plt.xlabel(\"Date\", fontsize=18)\n",
    "plt.ylabel('Recovered Rate (%)', fontsize=18)\n",
    "plt.savefig('Recovered Rate in Nordrhein-Westfalen.png',dpi=50)\n",
    "plt.show()"
   ]
  },
  {
   "cell_type": "markdown",
   "metadata": {},
   "source": [
    "# Model"
   ]
  },
  {
   "cell_type": "code",
   "execution_count": 12,
   "metadata": {},
   "outputs": [],
   "source": [
    "Data = total.filter(['recovered_rate'])\n",
    "Data_Set = Data.values\n",
    "\n",
    "#split the dataset into 75/25 for train and test.\n",
    "Training_Data = int(np.ceil( len(Data_Set) * .75 ))\n",
    "\n",
    "#scale the data \n",
    "SC = MinMaxScaler(feature_range=(0,1))\n",
    "SC_Data  = SC.fit_transform(Data_Set)\n",
    "#scaled_data"
   ]
  },
  {
   "cell_type": "code",
   "execution_count": 13,
   "metadata": {},
   "outputs": [
    {
     "data": {
      "text/plain": [
       "243"
      ]
     },
     "execution_count": 13,
     "metadata": {},
     "output_type": "execute_result"
    }
   ],
   "source": [
    "Training_Data"
   ]
  },
  {
   "cell_type": "code",
   "execution_count": 14,
   "metadata": {},
   "outputs": [],
   "source": [
    "Train_Data = SC_Data[0:Training_Data  , : ]\n",
    "\n",
    "#splitting the data\n",
    "Train_X =[]\n",
    "Train_Y = []\n",
    "Test_X = []\n",
    "Test_Y =  Data_Set[Training_Data : , : ] \n",
    "\n",
    "\n",
    "for i in range(30, len(Train_Data)):\n",
    "    Train_X.append(Train_Data[i-30:i,0])\n",
    "    Train_Y.append(Train_Data[i,0])"
   ]
  },
  {
   "cell_type": "code",
   "execution_count": 15,
   "metadata": {},
   "outputs": [],
   "source": [
    "Train_X, Train_Y = np.array(Train_X), np.array(Train_Y)\n",
    "\n",
    "Train_X = np.reshape(Train_X, (Train_X.shape[0],Train_X.shape[1],1))"
   ]
  },
  {
   "cell_type": "code",
   "execution_count": 16,
   "metadata": {},
   "outputs": [],
   "source": [
    "Test_Data = SC_Data[Training_Data - 30: , : ]\n",
    "\n",
    "for i in range(30,len(Test_Data)):\n",
    "    Test_X.append(Test_Data[i-30:i,0])\n",
    "    \n",
    "Test_X = np.array(Test_X)\n",
    "\n",
    "Test_X = np.reshape(Test_X, (Test_X.shape[0],Test_X.shape[1],1))"
   ]
  },
  {
   "cell_type": "code",
   "execution_count": 17,
   "metadata": {},
   "outputs": [],
   "source": [
    "model = Sequential()\n",
    "\n",
    "model.add(LSTM(units = 128, return_sequences = True,  activation='relu',input_shape = (Train_X.shape[1], 1)))\n",
    "model.add(LSTM(units = 64, return_sequences = True, activation='sigmoid'))\n",
    "model.add(LSTM(units = 25, return_sequences = True, activation='sigmoid'))\n",
    "model.add(LSTM(units = 5))\n",
    "model.add(Dropout(0.2))\n",
    "model.add(Dense(units = 1))\n"
   ]
  },
  {
   "cell_type": "code",
   "execution_count": 18,
   "metadata": {
    "scrolled": true
   },
   "outputs": [
    {
     "name": "stdout",
     "output_type": "stream",
     "text": [
      "Model: \"sequential\"\n",
      "_________________________________________________________________\n",
      "Layer (type)                 Output Shape              Param #   \n",
      "=================================================================\n",
      "lstm (LSTM)                  (None, 30, 128)           66560     \n",
      "_________________________________________________________________\n",
      "lstm_1 (LSTM)                (None, 30, 64)            49408     \n",
      "_________________________________________________________________\n",
      "lstm_2 (LSTM)                (None, 30, 25)            9000      \n",
      "_________________________________________________________________\n",
      "lstm_3 (LSTM)                (None, 5)                 620       \n",
      "_________________________________________________________________\n",
      "dropout (Dropout)            (None, 5)                 0         \n",
      "_________________________________________________________________\n",
      "dense (Dense)                (None, 1)                 6         \n",
      "=================================================================\n",
      "Total params: 125,594\n",
      "Trainable params: 125,594\n",
      "Non-trainable params: 0\n",
      "_________________________________________________________________\n"
     ]
    }
   ],
   "source": [
    "model.summary()"
   ]
  },
  {
   "cell_type": "code",
   "execution_count": 19,
   "metadata": {},
   "outputs": [],
   "source": [
    "model.compile(optimizer = optimizers.Adam(lr = 1e-4), metrics=['accuracy'], loss = 'mean_squared_error')"
   ]
  },
  {
   "cell_type": "code",
   "execution_count": 20,
   "metadata": {
    "scrolled": true
   },
   "outputs": [
    {
     "name": "stdout",
     "output_type": "stream",
     "text": [
      "Epoch 1/500\n",
      "43/43 [==============================] - 6s 151ms/step - loss: 1.5425 - accuracy: 0.0000e+00 - val_loss: 0.9206 - val_accuracy: 0.0125\n",
      "Epoch 2/500\n",
      "43/43 [==============================] - 5s 111ms/step - loss: 0.9537 - accuracy: 0.0000e+00 - val_loss: 0.4964 - val_accuracy: 0.0125\n",
      "Epoch 3/500\n",
      "43/43 [==============================] - 5s 117ms/step - loss: 0.4628 - accuracy: 0.0282 - val_loss: 0.2122 - val_accuracy: 0.0125\n",
      "Epoch 4/500\n",
      "43/43 [==============================] - 5s 112ms/step - loss: 0.2685 - accuracy: 0.0845 - val_loss: 0.1695 - val_accuracy: 0.0000e+00\n",
      "Epoch 5/500\n",
      "43/43 [==============================] - 5s 118ms/step - loss: 0.1993 - accuracy: 0.0986 - val_loss: 0.1413 - val_accuracy: 0.0000e+00\n",
      "Epoch 6/500\n",
      "43/43 [==============================] - 5s 116ms/step - loss: 0.1529 - accuracy: 0.1127 - val_loss: 0.1228 - val_accuracy: 0.0000e+00\n",
      "Epoch 7/500\n",
      "43/43 [==============================] - 6s 132ms/step - loss: 0.1292 - accuracy: 0.0986 - val_loss: 0.1129 - val_accuracy: 0.0000e+00\n",
      "Epoch 8/500\n",
      "43/43 [==============================] - 5s 120ms/step - loss: 0.0878 - accuracy: 0.1127 - val_loss: 0.1099 - val_accuracy: 0.0000e+00\n",
      "Epoch 9/500\n",
      "43/43 [==============================] - 6s 142ms/step - loss: 0.0670 - accuracy: 0.1268 - val_loss: 0.1108 - val_accuracy: 0.0000e+00\n",
      "Epoch 10/500\n",
      "43/43 [==============================] - 6s 130ms/step - loss: 0.0791 - accuracy: 0.1362 - val_loss: 0.1143 - val_accuracy: 0.0000e+00\n",
      "Epoch 11/500\n",
      "43/43 [==============================] - 6s 136ms/step - loss: 0.0674 - accuracy: 0.1080 - val_loss: 0.1185 - val_accuracy: 0.0000e+00\n",
      "Epoch 12/500\n",
      "43/43 [==============================] - 6s 143ms/step - loss: 0.0543 - accuracy: 0.1221 - val_loss: 0.1213 - val_accuracy: 0.0000e+00\n",
      "Epoch 13/500\n",
      "43/43 [==============================] - 6s 133ms/step - loss: 0.0581 - accuracy: 0.1221 - val_loss: 0.1250 - val_accuracy: 0.0000e+00\n",
      "Epoch 14/500\n",
      "43/43 [==============================] - 6s 138ms/step - loss: 0.0579 - accuracy: 0.1315 - val_loss: 0.1290 - val_accuracy: 0.0000e+00\n",
      "Epoch 15/500\n",
      "43/43 [==============================] - 6s 136ms/step - loss: 0.0642 - accuracy: 0.1127 - val_loss: 0.1295 - val_accuracy: 0.0000e+00\n",
      "Epoch 16/500\n",
      "43/43 [==============================] - 6s 133ms/step - loss: 0.0682 - accuracy: 0.1221 - val_loss: 0.1315 - val_accuracy: 0.0000e+00\n",
      "Epoch 17/500\n",
      "43/43 [==============================] - 7s 169ms/step - loss: 0.0530 - accuracy: 0.1315 - val_loss: 0.1334 - val_accuracy: 0.0000e+00\n",
      "Epoch 18/500\n",
      "43/43 [==============================] - 7s 159ms/step - loss: 0.0560 - accuracy: 0.1268 - val_loss: 0.1370 - val_accuracy: 0.0000e+00\n",
      "Epoch 19/500\n",
      "43/43 [==============================] - 6s 134ms/step - loss: 0.0464 - accuracy: 0.1315 - val_loss: 0.1311 - val_accuracy: 0.0000e+00\n",
      "Epoch 20/500\n",
      "43/43 [==============================] - 6s 138ms/step - loss: 0.0446 - accuracy: 0.1362 - val_loss: 0.1281 - val_accuracy: 0.0000e+00\n",
      "Epoch 21/500\n",
      "43/43 [==============================] - 5s 125ms/step - loss: 0.0587 - accuracy: 0.1268 - val_loss: 0.1312 - val_accuracy: 0.0000e+00\n",
      "Epoch 22/500\n",
      "43/43 [==============================] - 5s 127ms/step - loss: 0.0575 - accuracy: 0.1268 - val_loss: 0.1308 - val_accuracy: 0.0000e+00\n",
      "Epoch 23/500\n",
      "43/43 [==============================] - 6s 130ms/step - loss: 0.0571 - accuracy: 0.1315 - val_loss: 0.1335 - val_accuracy: 0.0000e+00\n",
      "Epoch 24/500\n",
      "43/43 [==============================] - 6s 128ms/step - loss: 0.0628 - accuracy: 0.1174 - val_loss: 0.1340 - val_accuracy: 0.0000e+00\n",
      "Epoch 25/500\n",
      "43/43 [==============================] - 6s 131ms/step - loss: 0.0503 - accuracy: 0.1315 - val_loss: 0.1313 - val_accuracy: 0.0000e+00\n",
      "Epoch 26/500\n",
      "43/43 [==============================] - 6s 128ms/step - loss: 0.0597 - accuracy: 0.1268 - val_loss: 0.1301 - val_accuracy: 0.0000e+00\n",
      "Epoch 27/500\n",
      "43/43 [==============================] - 6s 134ms/step - loss: 0.0546 - accuracy: 0.1315 - val_loss: 0.1275 - val_accuracy: 0.0000e+00\n",
      "Epoch 28/500\n",
      "43/43 [==============================] - 6s 141ms/step - loss: 0.0609 - accuracy: 0.1268 - val_loss: 0.1263 - val_accuracy: 0.0000e+00\n",
      "Epoch 29/500\n",
      "43/43 [==============================] - 6s 130ms/step - loss: 0.0571 - accuracy: 0.1268 - val_loss: 0.1269 - val_accuracy: 0.0000e+00\n",
      "Epoch 30/500\n",
      "43/43 [==============================] - 5s 127ms/step - loss: 0.0535 - accuracy: 0.1315 - val_loss: 0.1334 - val_accuracy: 0.0000e+00\n",
      "Epoch 31/500\n",
      "43/43 [==============================] - 6s 132ms/step - loss: 0.0433 - accuracy: 0.1221 - val_loss: 0.1302 - val_accuracy: 0.0000e+00\n",
      "Epoch 32/500\n",
      "43/43 [==============================] - 6s 137ms/step - loss: 0.0533 - accuracy: 0.1221 - val_loss: 0.1316 - val_accuracy: 0.0000e+00\n",
      "Epoch 33/500\n",
      "43/43 [==============================] - 6s 134ms/step - loss: 0.0507 - accuracy: 0.1268 - val_loss: 0.1291 - val_accuracy: 0.0000e+00\n",
      "Epoch 34/500\n",
      "43/43 [==============================] - 6s 136ms/step - loss: 0.0520 - accuracy: 0.1315 - val_loss: 0.1297 - val_accuracy: 0.0000e+00\n",
      "Epoch 35/500\n",
      "43/43 [==============================] - 6s 133ms/step - loss: 0.0466 - accuracy: 0.1315 - val_loss: 0.1328 - val_accuracy: 0.0000e+00\n",
      "Epoch 36/500\n",
      "43/43 [==============================] - 6s 131ms/step - loss: 0.0510 - accuracy: 0.1315 - val_loss: 0.1343 - val_accuracy: 0.0000e+00\n",
      "Epoch 37/500\n",
      "43/43 [==============================] - 6s 135ms/step - loss: 0.0503 - accuracy: 0.1362 - val_loss: 0.1333 - val_accuracy: 0.0000e+00\n",
      "Epoch 38/500\n",
      "43/43 [==============================] - 6s 137ms/step - loss: 0.0499 - accuracy: 0.1315 - val_loss: 0.1309 - val_accuracy: 0.0000e+00\n",
      "Epoch 39/500\n",
      "43/43 [==============================] - 6s 135ms/step - loss: 0.0496 - accuracy: 0.1315 - val_loss: 0.1314 - val_accuracy: 0.0000e+00\n",
      "Epoch 40/500\n",
      "43/43 [==============================] - 6s 134ms/step - loss: 0.0498 - accuracy: 0.1315 - val_loss: 0.1358 - val_accuracy: 0.0000e+00\n",
      "Epoch 41/500\n",
      "43/43 [==============================] - 6s 136ms/step - loss: 0.0527 - accuracy: 0.1221 - val_loss: 0.1354 - val_accuracy: 0.0000e+00\n",
      "Epoch 42/500\n",
      "43/43 [==============================] - 6s 151ms/step - loss: 0.0413 - accuracy: 0.1315 - val_loss: 0.1287 - val_accuracy: 0.0000e+00\n",
      "Epoch 43/500\n",
      "43/43 [==============================] - 6s 134ms/step - loss: 0.0500 - accuracy: 0.1221 - val_loss: 0.1337 - val_accuracy: 0.0000e+00\n",
      "Epoch 44/500\n",
      "43/43 [==============================] - 6s 137ms/step - loss: 0.0469 - accuracy: 0.1362 - val_loss: 0.1324 - val_accuracy: 0.0000e+00\n",
      "Epoch 45/500\n",
      "43/43 [==============================] - 6s 138ms/step - loss: 0.0535 - accuracy: 0.1268 - val_loss: 0.1272 - val_accuracy: 0.0000e+00\n",
      "Epoch 46/500\n",
      "43/43 [==============================] - 6s 136ms/step - loss: 0.0400 - accuracy: 0.1315 - val_loss: 0.1310 - val_accuracy: 0.0000e+00\n",
      "Epoch 47/500\n",
      "43/43 [==============================] - 6s 138ms/step - loss: 0.0474 - accuracy: 0.1268 - val_loss: 0.1375 - val_accuracy: 0.0000e+00\n",
      "Epoch 48/500\n",
      "43/43 [==============================] - 6s 134ms/step - loss: 0.0439 - accuracy: 0.1362 - val_loss: 0.1279 - val_accuracy: 0.0000e+00\n",
      "Epoch 49/500\n",
      "43/43 [==============================] - 6s 136ms/step - loss: 0.0470 - accuracy: 0.1268 - val_loss: 0.1342 - val_accuracy: 0.0000e+00\n",
      "Epoch 50/500\n",
      "43/43 [==============================] - 6s 136ms/step - loss: 0.0465 - accuracy: 0.1315 - val_loss: 0.1320 - val_accuracy: 0.0000e+00\n",
      "Epoch 51/500\n",
      "43/43 [==============================] - 6s 139ms/step - loss: 0.0336 - accuracy: 0.1362 - val_loss: 0.1316 - val_accuracy: 0.0000e+00\n",
      "Epoch 52/500\n",
      "43/43 [==============================] - 6s 135ms/step - loss: 0.0504 - accuracy: 0.1362 - val_loss: 0.1382 - val_accuracy: 0.0000e+00\n",
      "Epoch 53/500\n",
      "43/43 [==============================] - 6s 130ms/step - loss: 0.0429 - accuracy: 0.1362 - val_loss: 0.1344 - val_accuracy: 0.0000e+00\n",
      "Epoch 54/500\n",
      "43/43 [==============================] - 6s 135ms/step - loss: 0.0462 - accuracy: 0.1315 - val_loss: 0.1354 - val_accuracy: 0.0000e+00\n",
      "Epoch 55/500\n",
      "43/43 [==============================] - 6s 135ms/step - loss: 0.0407 - accuracy: 0.1362 - val_loss: 0.1334 - val_accuracy: 0.0000e+00\n",
      "Epoch 56/500\n"
     ]
    },
    {
     "name": "stdout",
     "output_type": "stream",
     "text": [
      "43/43 [==============================] - 5s 126ms/step - loss: 0.0389 - accuracy: 0.1315 - val_loss: 0.1300 - val_accuracy: 0.0000e+00\n",
      "Epoch 57/500\n",
      "43/43 [==============================] - 5s 122ms/step - loss: 0.0432 - accuracy: 0.1268 - val_loss: 0.1383 - val_accuracy: 0.0000e+00\n",
      "Epoch 58/500\n",
      "43/43 [==============================] - 5s 120ms/step - loss: 0.0380 - accuracy: 0.1362 - val_loss: 0.1340 - val_accuracy: 0.0000e+00\n",
      "Epoch 59/500\n",
      "43/43 [==============================] - 5s 123ms/step - loss: 0.0441 - accuracy: 0.1315 - val_loss: 0.1353 - val_accuracy: 0.0000e+00\n",
      "Epoch 60/500\n",
      "43/43 [==============================] - 5s 123ms/step - loss: 0.0477 - accuracy: 0.1362 - val_loss: 0.1373 - val_accuracy: 0.0000e+00\n",
      "Epoch 61/500\n",
      "43/43 [==============================] - 6s 133ms/step - loss: 0.0398 - accuracy: 0.1315 - val_loss: 0.1310 - val_accuracy: 0.0000e+00\n",
      "Epoch 62/500\n",
      "43/43 [==============================] - 5s 128ms/step - loss: 0.0449 - accuracy: 0.1268 - val_loss: 0.1319 - val_accuracy: 0.0000e+00\n",
      "Epoch 63/500\n",
      "43/43 [==============================] - 5s 120ms/step - loss: 0.0388 - accuracy: 0.1362 - val_loss: 0.1275 - val_accuracy: 0.0000e+00\n",
      "Epoch 64/500\n",
      "43/43 [==============================] - 5s 124ms/step - loss: 0.0334 - accuracy: 0.1362 - val_loss: 0.1362 - val_accuracy: 0.0000e+00\n",
      "Epoch 65/500\n",
      "43/43 [==============================] - 6s 139ms/step - loss: 0.0390 - accuracy: 0.1268 - val_loss: 0.1286 - val_accuracy: 0.0000e+00\n",
      "Epoch 66/500\n",
      "43/43 [==============================] - 6s 148ms/step - loss: 0.0335 - accuracy: 0.1315 - val_loss: 0.1295 - val_accuracy: 0.0000e+00\n",
      "Epoch 67/500\n",
      "43/43 [==============================] - 6s 136ms/step - loss: 0.0455 - accuracy: 0.1268 - val_loss: 0.1387 - val_accuracy: 0.0000e+00\n",
      "Epoch 68/500\n",
      "43/43 [==============================] - 6s 134ms/step - loss: 0.0519 - accuracy: 0.1315 - val_loss: 0.1399 - val_accuracy: 0.0000e+00\n",
      "Epoch 69/500\n",
      "43/43 [==============================] - 6s 140ms/step - loss: 0.0400 - accuracy: 0.1268 - val_loss: 0.1374 - val_accuracy: 0.0000e+00\n",
      "Epoch 70/500\n",
      "43/43 [==============================] - 6s 143ms/step - loss: 0.0398 - accuracy: 0.1315 - val_loss: 0.1367 - val_accuracy: 0.0000e+00\n",
      "Epoch 71/500\n",
      "43/43 [==============================] - 6s 145ms/step - loss: 0.0410 - accuracy: 0.1362 - val_loss: 0.1353 - val_accuracy: 0.0000e+00\n",
      "Epoch 72/500\n",
      "43/43 [==============================] - 6s 133ms/step - loss: 0.0410 - accuracy: 0.1362 - val_loss: 0.1379 - val_accuracy: 0.0000e+00\n",
      "Epoch 73/500\n",
      "43/43 [==============================] - 6s 138ms/step - loss: 0.0397 - accuracy: 0.1362 - val_loss: 0.1397 - val_accuracy: 0.0000e+00\n",
      "Epoch 74/500\n",
      "43/43 [==============================] - 6s 137ms/step - loss: 0.0315 - accuracy: 0.1362 - val_loss: 0.1373 - val_accuracy: 0.0000e+00\n",
      "Epoch 75/500\n",
      "43/43 [==============================] - 6s 137ms/step - loss: 0.0369 - accuracy: 0.1315 - val_loss: 0.1341 - val_accuracy: 0.0000e+00\n",
      "Epoch 76/500\n",
      "43/43 [==============================] - 6s 145ms/step - loss: 0.0403 - accuracy: 0.1362 - val_loss: 0.1348 - val_accuracy: 0.0000e+00\n",
      "Epoch 77/500\n",
      "43/43 [==============================] - 6s 138ms/step - loss: 0.0382 - accuracy: 0.1362 - val_loss: 0.1405 - val_accuracy: 0.0000e+00\n",
      "Epoch 78/500\n",
      "43/43 [==============================] - 6s 139ms/step - loss: 0.0352 - accuracy: 0.1362 - val_loss: 0.1301 - val_accuracy: 0.0000e+00\n",
      "Epoch 79/500\n",
      "43/43 [==============================] - 6s 146ms/step - loss: 0.0400 - accuracy: 0.1268 - val_loss: 0.1294 - val_accuracy: 0.0000e+00\n",
      "Epoch 80/500\n",
      "43/43 [==============================] - 6s 137ms/step - loss: 0.0327 - accuracy: 0.1362 - val_loss: 0.1296 - val_accuracy: 0.0000e+00\n",
      "Epoch 81/500\n",
      "43/43 [==============================] - 6s 148ms/step - loss: 0.0341 - accuracy: 0.1268 - val_loss: 0.1363 - val_accuracy: 0.0000e+00\n",
      "Epoch 82/500\n",
      "43/43 [==============================] - 6s 137ms/step - loss: 0.0418 - accuracy: 0.1268 - val_loss: 0.1384 - val_accuracy: 0.0000e+00\n",
      "Epoch 83/500\n",
      "43/43 [==============================] - 6s 139ms/step - loss: 0.0429 - accuracy: 0.1315 - val_loss: 0.1366 - val_accuracy: 0.0000e+00\n",
      "Epoch 84/500\n",
      "43/43 [==============================] - 6s 140ms/step - loss: 0.0377 - accuracy: 0.1362 - val_loss: 0.1354 - val_accuracy: 0.0000e+00\n",
      "Epoch 85/500\n",
      "43/43 [==============================] - 6s 137ms/step - loss: 0.0386 - accuracy: 0.1362 - val_loss: 0.1343 - val_accuracy: 0.0000e+00\n",
      "Epoch 86/500\n",
      "43/43 [==============================] - 6s 139ms/step - loss: 0.0379 - accuracy: 0.1315 - val_loss: 0.1344 - val_accuracy: 0.0000e+00\n",
      "Epoch 87/500\n",
      "43/43 [==============================] - 6s 136ms/step - loss: 0.0357 - accuracy: 0.1362 - val_loss: 0.1374 - val_accuracy: 0.0000e+00\n",
      "Epoch 88/500\n",
      "43/43 [==============================] - 6s 141ms/step - loss: 0.0387 - accuracy: 0.1315 - val_loss: 0.1350 - val_accuracy: 0.0000e+00\n",
      "Epoch 89/500\n",
      "43/43 [==============================] - 6s 137ms/step - loss: 0.0349 - accuracy: 0.1362 - val_loss: 0.1341 - val_accuracy: 0.0000e+00\n",
      "Epoch 90/500\n",
      "43/43 [==============================] - 6s 133ms/step - loss: 0.0430 - accuracy: 0.1315 - val_loss: 0.1363 - val_accuracy: 0.0000e+00\n",
      "Epoch 91/500\n",
      "43/43 [==============================] - 6s 142ms/step - loss: 0.0386 - accuracy: 0.1362 - val_loss: 0.1340 - val_accuracy: 0.0000e+00\n",
      "Epoch 92/500\n",
      "43/43 [==============================] - 6s 139ms/step - loss: 0.0316 - accuracy: 0.1362 - val_loss: 0.1385 - val_accuracy: 0.0000e+00\n",
      "Epoch 93/500\n",
      "43/43 [==============================] - 6s 138ms/step - loss: 0.0309 - accuracy: 0.1362 - val_loss: 0.1351 - val_accuracy: 0.0000e+00\n",
      "Epoch 94/500\n",
      "43/43 [==============================] - 6s 139ms/step - loss: 0.0412 - accuracy: 0.1268 - val_loss: 0.1365 - val_accuracy: 0.0000e+00\n",
      "Epoch 95/500\n",
      "43/43 [==============================] - 6s 137ms/step - loss: 0.0340 - accuracy: 0.1268 - val_loss: 0.1399 - val_accuracy: 0.0000e+00\n",
      "Epoch 96/500\n",
      "43/43 [==============================] - 6s 137ms/step - loss: 0.0317 - accuracy: 0.1315 - val_loss: 0.1332 - val_accuracy: 0.0000e+00\n",
      "Epoch 97/500\n",
      "43/43 [==============================] - 6s 141ms/step - loss: 0.0365 - accuracy: 0.1362 - val_loss: 0.1395 - val_accuracy: 0.0000e+00\n",
      "Epoch 98/500\n",
      "43/43 [==============================] - 6s 144ms/step - loss: 0.0387 - accuracy: 0.1315 - val_loss: 0.1407 - val_accuracy: 0.0000e+00\n",
      "Epoch 99/500\n",
      "43/43 [==============================] - 6s 139ms/step - loss: 0.0333 - accuracy: 0.1315 - val_loss: 0.1403 - val_accuracy: 0.0000e+00\n",
      "Epoch 100/500\n",
      "43/43 [==============================] - 6s 137ms/step - loss: 0.0359 - accuracy: 0.1221 - val_loss: 0.1356 - val_accuracy: 0.0000e+00\n",
      "Epoch 101/500\n",
      "43/43 [==============================] - 6s 142ms/step - loss: 0.0380 - accuracy: 0.1315 - val_loss: 0.1391 - val_accuracy: 0.0000e+00\n",
      "Epoch 102/500\n",
      "43/43 [==============================] - 6s 138ms/step - loss: 0.0381 - accuracy: 0.1315 - val_loss: 0.1407 - val_accuracy: 0.0000e+00\n",
      "Epoch 103/500\n",
      "43/43 [==============================] - 6s 146ms/step - loss: 0.0313 - accuracy: 0.1315 - val_loss: 0.1362 - val_accuracy: 0.0000e+00\n",
      "Epoch 104/500\n",
      "43/43 [==============================] - 6s 143ms/step - loss: 0.0288 - accuracy: 0.1315 - val_loss: 0.1324 - val_accuracy: 0.0000e+00\n",
      "Epoch 105/500\n",
      "43/43 [==============================] - 7s 152ms/step - loss: 0.0347 - accuracy: 0.1315 - val_loss: 0.1412 - val_accuracy: 0.0000e+00\n",
      "Epoch 106/500\n",
      "43/43 [==============================] - 7s 166ms/step - loss: 0.0448 - accuracy: 0.1268 - val_loss: 0.1458 - val_accuracy: 0.0000e+00\n",
      "Epoch 107/500\n",
      "43/43 [==============================] - 6s 150ms/step - loss: 0.0321 - accuracy: 0.1315 - val_loss: 0.1378 - val_accuracy: 0.0000e+00\n",
      "Epoch 108/500\n",
      "43/43 [==============================] - 7s 156ms/step - loss: 0.0322 - accuracy: 0.1315 - val_loss: 0.1387 - val_accuracy: 0.0000e+00\n",
      "Epoch 109/500\n",
      "43/43 [==============================] - 6s 143ms/step - loss: 0.0297 - accuracy: 0.1362 - val_loss: 0.1333 - val_accuracy: 0.0000e+00\n",
      "Epoch 110/500\n",
      "43/43 [==============================] - 6s 148ms/step - loss: 0.0351 - accuracy: 0.1362 - val_loss: 0.1375 - val_accuracy: 0.0000e+00\n",
      "Epoch 111/500\n"
     ]
    },
    {
     "name": "stdout",
     "output_type": "stream",
     "text": [
      "43/43 [==============================] - 6s 133ms/step - loss: 0.0325 - accuracy: 0.1268 - val_loss: 0.1414 - val_accuracy: 0.0000e+00\n",
      "Epoch 112/500\n",
      "43/43 [==============================] - 5s 128ms/step - loss: 0.0322 - accuracy: 0.1315 - val_loss: 0.1439 - val_accuracy: 0.0000e+00\n",
      "Epoch 113/500\n",
      "43/43 [==============================] - 5s 126ms/step - loss: 0.0354 - accuracy: 0.1315 - val_loss: 0.1357 - val_accuracy: 0.0000e+00\n",
      "Epoch 114/500\n",
      "43/43 [==============================] - 6s 134ms/step - loss: 0.0303 - accuracy: 0.1362 - val_loss: 0.1348 - val_accuracy: 0.0000e+00\n",
      "Epoch 115/500\n",
      "43/43 [==============================] - 6s 135ms/step - loss: 0.0332 - accuracy: 0.1362 - val_loss: 0.1409 - val_accuracy: 0.0000e+00\n",
      "Epoch 116/500\n",
      "43/43 [==============================] - 6s 137ms/step - loss: 0.0313 - accuracy: 0.1315 - val_loss: 0.1379 - val_accuracy: 0.0000e+00\n",
      "Epoch 117/500\n",
      "43/43 [==============================] - 6s 137ms/step - loss: 0.0302 - accuracy: 0.1362 - val_loss: 0.1363 - val_accuracy: 0.0000e+00\n",
      "Epoch 118/500\n",
      "43/43 [==============================] - 6s 143ms/step - loss: 0.0350 - accuracy: 0.1362 - val_loss: 0.1347 - val_accuracy: 0.0000e+00\n",
      "Epoch 119/500\n",
      "43/43 [==============================] - 6s 136ms/step - loss: 0.0351 - accuracy: 0.1315 - val_loss: 0.1422 - val_accuracy: 0.0000e+00\n",
      "Epoch 120/500\n",
      "43/43 [==============================] - 6s 135ms/step - loss: 0.0369 - accuracy: 0.1362 - val_loss: 0.1408 - val_accuracy: 0.0000e+00\n",
      "Epoch 121/500\n",
      "43/43 [==============================] - 5s 123ms/step - loss: 0.0288 - accuracy: 0.1362 - val_loss: 0.1440 - val_accuracy: 0.0000e+00\n",
      "Epoch 122/500\n",
      "43/43 [==============================] - 5s 125ms/step - loss: 0.0364 - accuracy: 0.1362 - val_loss: 0.1360 - val_accuracy: 0.0000e+00\n",
      "Epoch 123/500\n",
      "43/43 [==============================] - 6s 130ms/step - loss: 0.0256 - accuracy: 0.1362 - val_loss: 0.1385 - val_accuracy: 0.0000e+00\n",
      "Epoch 124/500\n",
      "43/43 [==============================] - 5s 124ms/step - loss: 0.0292 - accuracy: 0.1315 - val_loss: 0.1359 - val_accuracy: 0.0000e+00\n",
      "Epoch 125/500\n",
      "43/43 [==============================] - 6s 132ms/step - loss: 0.0290 - accuracy: 0.1362 - val_loss: 0.1353 - val_accuracy: 0.0000e+00\n",
      "Epoch 126/500\n",
      "43/43 [==============================] - 5s 125ms/step - loss: 0.0337 - accuracy: 0.1362 - val_loss: 0.1361 - val_accuracy: 0.0000e+00\n",
      "Epoch 127/500\n",
      "43/43 [==============================] - 5s 127ms/step - loss: 0.0371 - accuracy: 0.1362 - val_loss: 0.1385 - val_accuracy: 0.0000e+00\n",
      "Epoch 128/500\n",
      "43/43 [==============================] - 6s 143ms/step - loss: 0.0282 - accuracy: 0.1362 - val_loss: 0.1368 - val_accuracy: 0.0000e+00\n",
      "Epoch 129/500\n",
      "43/43 [==============================] - 6s 138ms/step - loss: 0.0300 - accuracy: 0.1362 - val_loss: 0.1340 - val_accuracy: 0.0000e+00\n",
      "Epoch 130/500\n",
      "43/43 [==============================] - 6s 135ms/step - loss: 0.0300 - accuracy: 0.1362 - val_loss: 0.1371 - val_accuracy: 0.0000e+00\n",
      "Epoch 131/500\n",
      "43/43 [==============================] - 5s 128ms/step - loss: 0.0304 - accuracy: 0.1362 - val_loss: 0.1414 - val_accuracy: 0.0000e+00\n",
      "Epoch 132/500\n",
      "43/43 [==============================] - 6s 128ms/step - loss: 0.0328 - accuracy: 0.1362 - val_loss: 0.1414 - val_accuracy: 0.0000e+00\n",
      "Epoch 133/500\n",
      "43/43 [==============================] - 5s 124ms/step - loss: 0.0320 - accuracy: 0.1362 - val_loss: 0.1406 - val_accuracy: 0.0000e+00\n",
      "Epoch 134/500\n",
      "43/43 [==============================] - 5s 126ms/step - loss: 0.0332 - accuracy: 0.1315 - val_loss: 0.1409 - val_accuracy: 0.0000e+00\n",
      "Epoch 135/500\n",
      "43/43 [==============================] - 6s 129ms/step - loss: 0.0311 - accuracy: 0.1315 - val_loss: 0.1321 - val_accuracy: 0.0000e+00\n",
      "Epoch 136/500\n",
      "43/43 [==============================] - 5s 125ms/step - loss: 0.0302 - accuracy: 0.1362 - val_loss: 0.1427 - val_accuracy: 0.0000e+00\n",
      "Epoch 137/500\n",
      "43/43 [==============================] - 5s 126ms/step - loss: 0.0299 - accuracy: 0.1315 - val_loss: 0.1355 - val_accuracy: 0.0000e+00\n",
      "Epoch 138/500\n",
      "43/43 [==============================] - 5s 127ms/step - loss: 0.0300 - accuracy: 0.1362 - val_loss: 0.1407 - val_accuracy: 0.0000e+00\n",
      "Epoch 139/500\n",
      "43/43 [==============================] - 5s 126ms/step - loss: 0.0315 - accuracy: 0.1362 - val_loss: 0.1383 - val_accuracy: 0.0000e+00\n",
      "Epoch 140/500\n",
      "43/43 [==============================] - 5s 125ms/step - loss: 0.0346 - accuracy: 0.1268 - val_loss: 0.1449 - val_accuracy: 0.0000e+00\n",
      "Epoch 141/500\n",
      "43/43 [==============================] - 6s 130ms/step - loss: 0.0273 - accuracy: 0.1362 - val_loss: 0.1433 - val_accuracy: 0.0000e+00\n",
      "Epoch 142/500\n",
      "43/43 [==============================] - 6s 130ms/step - loss: 0.0269 - accuracy: 0.1362 - val_loss: 0.1327 - val_accuracy: 0.0000e+00\n",
      "Epoch 143/500\n",
      "43/43 [==============================] - 6s 133ms/step - loss: 0.0338 - accuracy: 0.1268 - val_loss: 0.1362 - val_accuracy: 0.0000e+00\n",
      "Epoch 144/500\n",
      "43/43 [==============================] - 5s 125ms/step - loss: 0.0315 - accuracy: 0.1362 - val_loss: 0.1358 - val_accuracy: 0.0000e+00\n",
      "Epoch 145/500\n",
      "43/43 [==============================] - 5s 124ms/step - loss: 0.0188 - accuracy: 0.1362 - val_loss: 0.1362 - val_accuracy: 0.0000e+00\n",
      "Epoch 146/500\n",
      "43/43 [==============================] - 6s 129ms/step - loss: 0.0284 - accuracy: 0.1315 - val_loss: 0.1416 - val_accuracy: 0.0000e+00\n",
      "Epoch 147/500\n",
      "43/43 [==============================] - 5s 126ms/step - loss: 0.0335 - accuracy: 0.1362 - val_loss: 0.1393 - val_accuracy: 0.0000e+00\n",
      "Epoch 148/500\n",
      "43/43 [==============================] - 5s 128ms/step - loss: 0.0299 - accuracy: 0.1362 - val_loss: 0.1349 - val_accuracy: 0.0000e+00\n",
      "Epoch 149/500\n",
      "43/43 [==============================] - 5s 126ms/step - loss: 0.0249 - accuracy: 0.1362 - val_loss: 0.1370 - val_accuracy: 0.0000e+00\n",
      "Epoch 150/500\n",
      "43/43 [==============================] - 6s 133ms/step - loss: 0.0283 - accuracy: 0.1362 - val_loss: 0.1372 - val_accuracy: 0.0000e+00\n",
      "Epoch 151/500\n",
      "43/43 [==============================] - 5s 127ms/step - loss: 0.0296 - accuracy: 0.1362 - val_loss: 0.1357 - val_accuracy: 0.0000e+00\n",
      "Epoch 152/500\n",
      "43/43 [==============================] - 5s 128ms/step - loss: 0.0311 - accuracy: 0.1362 - val_loss: 0.1393 - val_accuracy: 0.0000e+00\n",
      "Epoch 153/500\n",
      "43/43 [==============================] - 5s 126ms/step - loss: 0.0261 - accuracy: 0.1315 - val_loss: 0.1395 - val_accuracy: 0.0000e+00\n",
      "Epoch 154/500\n",
      "43/43 [==============================] - 6s 140ms/step - loss: 0.0298 - accuracy: 0.1362 - val_loss: 0.1444 - val_accuracy: 0.0000e+00\n",
      "Epoch 155/500\n",
      "43/43 [==============================] - 6s 129ms/step - loss: 0.0249 - accuracy: 0.1362 - val_loss: 0.1411 - val_accuracy: 0.0000e+00\n",
      "Epoch 156/500\n",
      "43/43 [==============================] - 6s 132ms/step - loss: 0.0300 - accuracy: 0.1315 - val_loss: 0.1348 - val_accuracy: 0.0000e+00\n",
      "Epoch 157/500\n",
      "43/43 [==============================] - 7s 160ms/step - loss: 0.0266 - accuracy: 0.1362 - val_loss: 0.1380 - val_accuracy: 0.0000e+00\n",
      "Epoch 158/500\n",
      "43/43 [==============================] - 7s 154ms/step - loss: 0.0278 - accuracy: 0.1362 - val_loss: 0.1394 - val_accuracy: 0.0000e+00\n",
      "Epoch 159/500\n",
      "43/43 [==============================] - 7s 162ms/step - loss: 0.0305 - accuracy: 0.1362 - val_loss: 0.1372 - val_accuracy: 0.0000e+00\n",
      "Epoch 160/500\n",
      "43/43 [==============================] - 6s 128ms/step - loss: 0.0214 - accuracy: 0.1362 - val_loss: 0.1319 - val_accuracy: 0.0000e+00\n",
      "Epoch 161/500\n",
      "43/43 [==============================] - 7s 152ms/step - loss: 0.0274 - accuracy: 0.1362 - val_loss: 0.1407 - val_accuracy: 0.0000e+00\n",
      "Epoch 162/500\n",
      "43/43 [==============================] - 6s 143ms/step - loss: 0.0241 - accuracy: 0.1315 - val_loss: 0.1358 - val_accuracy: 0.0000e+00\n",
      "Epoch 163/500\n",
      "43/43 [==============================] - 6s 146ms/step - loss: 0.0268 - accuracy: 0.1362 - val_loss: 0.1397 - val_accuracy: 0.0000e+00\n",
      "Epoch 164/500\n",
      "43/43 [==============================] - 7s 152ms/step - loss: 0.0336 - accuracy: 0.1362 - val_loss: 0.1380 - val_accuracy: 0.0000e+00\n",
      "Epoch 165/500\n",
      "43/43 [==============================] - 7s 164ms/step - loss: 0.0292 - accuracy: 0.1315 - val_loss: 0.1378 - val_accuracy: 0.0000e+00\n",
      "Epoch 166/500\n"
     ]
    },
    {
     "name": "stdout",
     "output_type": "stream",
     "text": [
      "43/43 [==============================] - 6s 147ms/step - loss: 0.0245 - accuracy: 0.1362 - val_loss: 0.1398 - val_accuracy: 0.0000e+00\n",
      "Epoch 167/500\n",
      "43/43 [==============================] - 6s 133ms/step - loss: 0.0285 - accuracy: 0.1268 - val_loss: 0.1388 - val_accuracy: 0.0000e+00\n",
      "Epoch 168/500\n",
      "43/43 [==============================] - 6s 136ms/step - loss: 0.0243 - accuracy: 0.1362 - val_loss: 0.1426 - val_accuracy: 0.0000e+00\n",
      "Epoch 169/500\n",
      "43/43 [==============================] - 6s 146ms/step - loss: 0.0278 - accuracy: 0.1362 - val_loss: 0.1418 - val_accuracy: 0.0000e+00\n",
      "Epoch 170/500\n",
      "43/43 [==============================] - 6s 142ms/step - loss: 0.0268 - accuracy: 0.1362 - val_loss: 0.1436 - val_accuracy: 0.0000e+00\n",
      "Epoch 171/500\n",
      "43/43 [==============================] - 6s 135ms/step - loss: 0.0230 - accuracy: 0.1362 - val_loss: 0.1413 - val_accuracy: 0.0000e+00\n",
      "Epoch 172/500\n",
      "43/43 [==============================] - 6s 137ms/step - loss: 0.0264 - accuracy: 0.1315 - val_loss: 0.1383 - val_accuracy: 0.0000e+00\n",
      "Epoch 173/500\n",
      "43/43 [==============================] - 6s 136ms/step - loss: 0.0332 - accuracy: 0.1362 - val_loss: 0.1467 - val_accuracy: 0.0000e+00\n",
      "Epoch 174/500\n",
      "43/43 [==============================] - 6s 139ms/step - loss: 0.0265 - accuracy: 0.1362 - val_loss: 0.1345 - val_accuracy: 0.0000e+00\n",
      "Epoch 175/500\n",
      "43/43 [==============================] - 6s 140ms/step - loss: 0.0217 - accuracy: 0.1362 - val_loss: 0.1367 - val_accuracy: 0.0000e+00\n",
      "Epoch 176/500\n",
      "43/43 [==============================] - 6s 142ms/step - loss: 0.0267 - accuracy: 0.1362 - val_loss: 0.1459 - val_accuracy: 0.0000e+00\n",
      "Epoch 177/500\n",
      "43/43 [==============================] - 6s 144ms/step - loss: 0.0271 - accuracy: 0.1315 - val_loss: 0.1417 - val_accuracy: 0.0000e+00\n",
      "Epoch 178/500\n",
      "43/43 [==============================] - 6s 149ms/step - loss: 0.0234 - accuracy: 0.1362 - val_loss: 0.1334 - val_accuracy: 0.0000e+00\n",
      "Epoch 179/500\n",
      "43/43 [==============================] - 7s 161ms/step - loss: 0.0229 - accuracy: 0.1362 - val_loss: 0.1379 - val_accuracy: 0.0000e+00\n",
      "Epoch 180/500\n",
      "43/43 [==============================] - 7s 152ms/step - loss: 0.0244 - accuracy: 0.1362 - val_loss: 0.1435 - val_accuracy: 0.0000e+00\n",
      "Epoch 181/500\n",
      "43/43 [==============================] - 7s 153ms/step - loss: 0.0223 - accuracy: 0.1362 - val_loss: 0.1390 - val_accuracy: 0.0000e+00\n",
      "Epoch 182/500\n",
      "43/43 [==============================] - 6s 143ms/step - loss: 0.0266 - accuracy: 0.1315 - val_loss: 0.1481 - val_accuracy: 0.0000e+00\n",
      "Epoch 183/500\n",
      "43/43 [==============================] - 6s 141ms/step - loss: 0.0232 - accuracy: 0.1362 - val_loss: 0.1387 - val_accuracy: 0.0000e+00\n",
      "Epoch 184/500\n",
      "43/43 [==============================] - 6s 141ms/step - loss: 0.0282 - accuracy: 0.1362 - val_loss: 0.1405 - val_accuracy: 0.0000e+00\n",
      "Epoch 185/500\n",
      "43/43 [==============================] - 6s 145ms/step - loss: 0.0263 - accuracy: 0.1362 - val_loss: 0.1417 - val_accuracy: 0.0000e+00\n",
      "Epoch 186/500\n",
      "43/43 [==============================] - 6s 136ms/step - loss: 0.0237 - accuracy: 0.1362 - val_loss: 0.1439 - val_accuracy: 0.0000e+00\n",
      "Epoch 187/500\n",
      "43/43 [==============================] - 6s 130ms/step - loss: 0.0285 - accuracy: 0.1362 - val_loss: 0.1436 - val_accuracy: 0.0000e+00\n",
      "Epoch 188/500\n",
      "43/43 [==============================] - 5s 122ms/step - loss: 0.0222 - accuracy: 0.1362 - val_loss: 0.1330 - val_accuracy: 0.0000e+00\n",
      "Epoch 189/500\n",
      "43/43 [==============================] - 5s 126ms/step - loss: 0.0232 - accuracy: 0.1362 - val_loss: 0.1389 - val_accuracy: 0.0000e+00\n",
      "Epoch 190/500\n",
      "43/43 [==============================] - 5s 125ms/step - loss: 0.0231 - accuracy: 0.1362 - val_loss: 0.1403 - val_accuracy: 0.0000e+00\n",
      "Epoch 191/500\n",
      "43/43 [==============================] - 5s 124ms/step - loss: 0.0189 - accuracy: 0.1362 - val_loss: 0.1339 - val_accuracy: 0.0000e+00\n",
      "Epoch 192/500\n",
      "43/43 [==============================] - 5s 125ms/step - loss: 0.0280 - accuracy: 0.1362 - val_loss: 0.1421 - val_accuracy: 0.0000e+00\n",
      "Epoch 193/500\n",
      "43/43 [==============================] - 5s 120ms/step - loss: 0.0227 - accuracy: 0.1362 - val_loss: 0.1397 - val_accuracy: 0.0000e+00\n",
      "Epoch 194/500\n",
      "43/43 [==============================] - 5s 128ms/step - loss: 0.0271 - accuracy: 0.1362 - val_loss: 0.1424 - val_accuracy: 0.0000e+00\n",
      "Epoch 195/500\n",
      "43/43 [==============================] - 5s 126ms/step - loss: 0.0261 - accuracy: 0.1362 - val_loss: 0.1441 - val_accuracy: 0.0000e+00\n",
      "Epoch 196/500\n",
      "43/43 [==============================] - 6s 130ms/step - loss: 0.0234 - accuracy: 0.1362 - val_loss: 0.1408 - val_accuracy: 0.0000e+00\n",
      "Epoch 197/500\n",
      "43/43 [==============================] - 5s 125ms/step - loss: 0.0230 - accuracy: 0.1315 - val_loss: 0.1402 - val_accuracy: 0.0000e+00\n",
      "Epoch 198/500\n",
      "43/43 [==============================] - 6s 138ms/step - loss: 0.0261 - accuracy: 0.1362 - val_loss: 0.1473 - val_accuracy: 0.0000e+00\n",
      "Epoch 199/500\n",
      "43/43 [==============================] - 5s 126ms/step - loss: 0.0260 - accuracy: 0.1315 - val_loss: 0.1379 - val_accuracy: 0.0000e+00\n",
      "Epoch 200/500\n",
      "43/43 [==============================] - 5s 126ms/step - loss: 0.0195 - accuracy: 0.1362 - val_loss: 0.1376 - val_accuracy: 0.0000e+00\n",
      "Epoch 201/500\n",
      "43/43 [==============================] - 6s 140ms/step - loss: 0.0203 - accuracy: 0.1362 - val_loss: 0.1415 - val_accuracy: 0.0000e+00\n",
      "Epoch 202/500\n",
      "43/43 [==============================] - 6s 128ms/step - loss: 0.0226 - accuracy: 0.1315 - val_loss: 0.1372 - val_accuracy: 0.0000e+00\n",
      "Epoch 203/500\n",
      "43/43 [==============================] - 6s 129ms/step - loss: 0.0251 - accuracy: 0.1362 - val_loss: 0.1389 - val_accuracy: 0.0000e+00\n",
      "Epoch 204/500\n",
      "43/43 [==============================] - 6s 129ms/step - loss: 0.0179 - accuracy: 0.1362 - val_loss: 0.1379 - val_accuracy: 0.0000e+00\n",
      "Epoch 205/500\n",
      "43/43 [==============================] - 6s 140ms/step - loss: 0.0246 - accuracy: 0.1362 - val_loss: 0.1402 - val_accuracy: 0.0000e+00\n",
      "Epoch 206/500\n",
      "43/43 [==============================] - 6s 149ms/step - loss: 0.0225 - accuracy: 0.1362 - val_loss: 0.1325 - val_accuracy: 0.0000e+00\n",
      "Epoch 207/500\n",
      "43/43 [==============================] - 6s 140ms/step - loss: 0.0226 - accuracy: 0.1362 - val_loss: 0.1401 - val_accuracy: 0.0000e+00\n",
      "Epoch 208/500\n",
      "43/43 [==============================] - 6s 132ms/step - loss: 0.0233 - accuracy: 0.1362 - val_loss: 0.1389 - val_accuracy: 0.0000e+00\n",
      "Epoch 209/500\n",
      "43/43 [==============================] - 6s 144ms/step - loss: 0.0191 - accuracy: 0.1362 - val_loss: 0.1407 - val_accuracy: 0.0000e+00\n",
      "Epoch 210/500\n",
      "43/43 [==============================] - 6s 133ms/step - loss: 0.0223 - accuracy: 0.1362 - val_loss: 0.1403 - val_accuracy: 0.0000e+00\n",
      "Epoch 211/500\n",
      "43/43 [==============================] - 6s 131ms/step - loss: 0.0208 - accuracy: 0.1362 - val_loss: 0.1379 - val_accuracy: 0.0000e+00\n",
      "Epoch 212/500\n",
      "43/43 [==============================] - 5s 126ms/step - loss: 0.0209 - accuracy: 0.1362 - val_loss: 0.1471 - val_accuracy: 0.0000e+00\n",
      "Epoch 213/500\n",
      "43/43 [==============================] - 6s 128ms/step - loss: 0.0183 - accuracy: 0.1362 - val_loss: 0.1368 - val_accuracy: 0.0000e+00\n",
      "Epoch 214/500\n",
      "43/43 [==============================] - 6s 150ms/step - loss: 0.0175 - accuracy: 0.1362 - val_loss: 0.1353 - val_accuracy: 0.0000e+00\n",
      "Epoch 215/500\n",
      "43/43 [==============================] - 6s 137ms/step - loss: 0.0228 - accuracy: 0.1362 - val_loss: 0.1423 - val_accuracy: 0.0000e+00\n",
      "Epoch 216/500\n",
      "43/43 [==============================] - 6s 141ms/step - loss: 0.0188 - accuracy: 0.1362 - val_loss: 0.1404 - val_accuracy: 0.0000e+00\n",
      "Epoch 217/500\n",
      "43/43 [==============================] - 6s 135ms/step - loss: 0.0224 - accuracy: 0.1362 - val_loss: 0.1387 - val_accuracy: 0.0000e+00\n",
      "Epoch 218/500\n",
      "43/43 [==============================] - 5s 127ms/step - loss: 0.0217 - accuracy: 0.1362 - val_loss: 0.1434 - val_accuracy: 0.0000e+00\n",
      "Epoch 219/500\n",
      "43/43 [==============================] - 6s 134ms/step - loss: 0.0212 - accuracy: 0.1362 - val_loss: 0.1431 - val_accuracy: 0.0000e+00\n",
      "Epoch 220/500\n",
      "43/43 [==============================] - 6s 137ms/step - loss: 0.0223 - accuracy: 0.1362 - val_loss: 0.1461 - val_accuracy: 0.0000e+00\n",
      "Epoch 221/500\n"
     ]
    },
    {
     "name": "stdout",
     "output_type": "stream",
     "text": [
      "43/43 [==============================] - 6s 134ms/step - loss: 0.0265 - accuracy: 0.1315 - val_loss: 0.1384 - val_accuracy: 0.0000e+00\n",
      "Epoch 222/500\n",
      "43/43 [==============================] - 5s 125ms/step - loss: 0.0162 - accuracy: 0.1362 - val_loss: 0.1472 - val_accuracy: 0.0000e+00\n",
      "Epoch 223/500\n",
      "43/43 [==============================] - 6s 129ms/step - loss: 0.0174 - accuracy: 0.1362 - val_loss: 0.1330 - val_accuracy: 0.0000e+00\n",
      "Epoch 224/500\n",
      "43/43 [==============================] - 5s 124ms/step - loss: 0.0202 - accuracy: 0.1362 - val_loss: 0.1398 - val_accuracy: 0.0000e+00\n",
      "Epoch 225/500\n",
      "43/43 [==============================] - 6s 130ms/step - loss: 0.0210 - accuracy: 0.1362 - val_loss: 0.1382 - val_accuracy: 0.0000e+00\n",
      "Epoch 226/500\n",
      "43/43 [==============================] - 5s 127ms/step - loss: 0.0192 - accuracy: 0.1362 - val_loss: 0.1425 - val_accuracy: 0.0000e+00\n",
      "Epoch 227/500\n",
      "43/43 [==============================] - 5s 125ms/step - loss: 0.0191 - accuracy: 0.1362 - val_loss: 0.1406 - val_accuracy: 0.0000e+00\n",
      "Epoch 228/500\n",
      "43/43 [==============================] - 6s 129ms/step - loss: 0.0187 - accuracy: 0.1362 - val_loss: 0.1385 - val_accuracy: 0.0000e+00\n",
      "Epoch 229/500\n",
      "43/43 [==============================] - 5s 126ms/step - loss: 0.0193 - accuracy: 0.1362 - val_loss: 0.1390 - val_accuracy: 0.0000e+00\n",
      "Epoch 230/500\n",
      "43/43 [==============================] - 5s 125ms/step - loss: 0.0199 - accuracy: 0.1362 - val_loss: 0.1419 - val_accuracy: 0.0000e+00\n",
      "Epoch 231/500\n",
      "43/43 [==============================] - 6s 137ms/step - loss: 0.0218 - accuracy: 0.1362 - val_loss: 0.1426 - val_accuracy: 0.0000e+00\n",
      "Epoch 232/500\n",
      "43/43 [==============================] - 6s 143ms/step - loss: 0.0211 - accuracy: 0.1315 - val_loss: 0.1422 - val_accuracy: 0.0000e+00\n",
      "Epoch 233/500\n",
      "43/43 [==============================] - 6s 137ms/step - loss: 0.0194 - accuracy: 0.1315 - val_loss: 0.1366 - val_accuracy: 0.0000e+00\n",
      "Epoch 234/500\n",
      "43/43 [==============================] - 6s 134ms/step - loss: 0.0197 - accuracy: 0.1315 - val_loss: 0.1404 - val_accuracy: 0.0000e+00\n",
      "Epoch 235/500\n",
      "43/43 [==============================] - 5s 127ms/step - loss: 0.0195 - accuracy: 0.1362 - val_loss: 0.1416 - val_accuracy: 0.0000e+00\n",
      "Epoch 236/500\n",
      "43/43 [==============================] - 5s 125ms/step - loss: 0.0180 - accuracy: 0.1362 - val_loss: 0.1407 - val_accuracy: 0.0000e+00\n",
      "Epoch 237/500\n",
      "43/43 [==============================] - 6s 128ms/step - loss: 0.0245 - accuracy: 0.1315 - val_loss: 0.1418 - val_accuracy: 0.0000e+00\n",
      "Epoch 238/500\n",
      "43/43 [==============================] - 6s 130ms/step - loss: 0.0176 - accuracy: 0.1362 - val_loss: 0.1419 - val_accuracy: 0.0000e+00\n",
      "Epoch 239/500\n",
      "43/43 [==============================] - 6s 129ms/step - loss: 0.0172 - accuracy: 0.1362 - val_loss: 0.1453 - val_accuracy: 0.0000e+00\n",
      "Epoch 240/500\n",
      "43/43 [==============================] - 5s 127ms/step - loss: 0.0177 - accuracy: 0.1362 - val_loss: 0.1389 - val_accuracy: 0.0000e+00\n",
      "Epoch 241/500\n",
      "43/43 [==============================] - 5s 126ms/step - loss: 0.0194 - accuracy: 0.1362 - val_loss: 0.1463 - val_accuracy: 0.0000e+00\n",
      "Epoch 242/500\n",
      "43/43 [==============================] - 6s 136ms/step - loss: 0.0168 - accuracy: 0.1362 - val_loss: 0.1413 - val_accuracy: 0.0000e+00\n",
      "Epoch 243/500\n",
      "43/43 [==============================] - 6s 131ms/step - loss: 0.0173 - accuracy: 0.1362 - val_loss: 0.1389 - val_accuracy: 0.0000e+00\n",
      "Epoch 244/500\n",
      "43/43 [==============================] - 5s 126ms/step - loss: 0.0185 - accuracy: 0.1362 - val_loss: 0.1405 - val_accuracy: 0.0000e+00\n",
      "Epoch 245/500\n",
      "43/43 [==============================] - 5s 123ms/step - loss: 0.0160 - accuracy: 0.1362 - val_loss: 0.1411 - val_accuracy: 0.0000e+00\n",
      "Epoch 246/500\n",
      "43/43 [==============================] - 5s 125ms/step - loss: 0.0182 - accuracy: 0.1362 - val_loss: 0.1436 - val_accuracy: 0.0000e+00\n",
      "Epoch 247/500\n",
      "43/43 [==============================] - 5s 125ms/step - loss: 0.0191 - accuracy: 0.1362 - val_loss: 0.1412 - val_accuracy: 0.0000e+00\n",
      "Epoch 248/500\n",
      "43/43 [==============================] - 5s 127ms/step - loss: 0.0179 - accuracy: 0.1362 - val_loss: 0.1402 - val_accuracy: 0.0000e+00\n",
      "Epoch 249/500\n",
      "43/43 [==============================] - 6s 134ms/step - loss: 0.0187 - accuracy: 0.1362 - val_loss: 0.1431 - val_accuracy: 0.0000e+00\n",
      "Epoch 250/500\n",
      "43/43 [==============================] - 6s 131ms/step - loss: 0.0167 - accuracy: 0.1362 - val_loss: 0.1437 - val_accuracy: 0.0000e+00\n",
      "Epoch 251/500\n",
      "43/43 [==============================] - 6s 132ms/step - loss: 0.0169 - accuracy: 0.1362 - val_loss: 0.1407 - val_accuracy: 0.0000e+00\n",
      "Epoch 252/500\n",
      "43/43 [==============================] - 5s 127ms/step - loss: 0.0158 - accuracy: 0.1362 - val_loss: 0.1440 - val_accuracy: 0.0000e+00\n",
      "Epoch 253/500\n",
      "43/43 [==============================] - 5s 127ms/step - loss: 0.0213 - accuracy: 0.1362 - val_loss: 0.1408 - val_accuracy: 0.0000e+00\n",
      "Epoch 254/500\n",
      "43/43 [==============================] - 5s 127ms/step - loss: 0.0179 - accuracy: 0.1362 - val_loss: 0.1453 - val_accuracy: 0.0000e+00\n",
      "Epoch 255/500\n",
      "43/43 [==============================] - 6s 139ms/step - loss: 0.0144 - accuracy: 0.1362 - val_loss: 0.1449 - val_accuracy: 0.0000e+00\n",
      "Epoch 256/500\n",
      "43/43 [==============================] - 6s 144ms/step - loss: 0.0151 - accuracy: 0.1362 - val_loss: 0.1417 - val_accuracy: 0.0000e+00\n",
      "Epoch 257/500\n",
      "43/43 [==============================] - 6s 140ms/step - loss: 0.0163 - accuracy: 0.1362 - val_loss: 0.1469 - val_accuracy: 0.0000e+00\n",
      "Epoch 258/500\n",
      "43/43 [==============================] - 6s 136ms/step - loss: 0.0207 - accuracy: 0.1362 - val_loss: 0.1432 - val_accuracy: 0.0000e+00\n",
      "Epoch 259/500\n",
      "43/43 [==============================] - 5s 124ms/step - loss: 0.0173 - accuracy: 0.1362 - val_loss: 0.1451 - val_accuracy: 0.0000e+00\n",
      "Epoch 260/500\n",
      "43/43 [==============================] - 6s 128ms/step - loss: 0.0193 - accuracy: 0.1362 - val_loss: 0.1433 - val_accuracy: 0.0000e+00\n",
      "Epoch 261/500\n",
      "43/43 [==============================] - 5s 124ms/step - loss: 0.0175 - accuracy: 0.1362 - val_loss: 0.1438 - val_accuracy: 0.0000e+00\n",
      "Epoch 262/500\n",
      "43/43 [==============================] - 5s 123ms/step - loss: 0.0178 - accuracy: 0.1362 - val_loss: 0.1395 - val_accuracy: 0.0000e+00\n",
      "Epoch 263/500\n",
      "43/43 [==============================] - 6s 132ms/step - loss: 0.0178 - accuracy: 0.1362 - val_loss: 0.1432 - val_accuracy: 0.0000e+00\n",
      "Epoch 264/500\n",
      "43/43 [==============================] - 6s 137ms/step - loss: 0.0168 - accuracy: 0.1362 - val_loss: 0.1415 - val_accuracy: 0.0000e+00\n",
      "Epoch 265/500\n",
      "43/43 [==============================] - 6s 129ms/step - loss: 0.0179 - accuracy: 0.1362 - val_loss: 0.1404 - val_accuracy: 0.0000e+00\n",
      "Epoch 266/500\n",
      "43/43 [==============================] - 6s 138ms/step - loss: 0.0149 - accuracy: 0.1362 - val_loss: 0.1470 - val_accuracy: 0.0000e+00\n",
      "Epoch 267/500\n",
      "43/43 [==============================] - 6s 136ms/step - loss: 0.0187 - accuracy: 0.1362 - val_loss: 0.1410 - val_accuracy: 0.0000e+00\n",
      "Epoch 268/500\n",
      "43/43 [==============================] - 6s 140ms/step - loss: 0.0139 - accuracy: 0.1362 - val_loss: 0.1417 - val_accuracy: 0.0000e+00\n",
      "Epoch 269/500\n",
      "43/43 [==============================] - 6s 132ms/step - loss: 0.0154 - accuracy: 0.1362 - val_loss: 0.1443 - val_accuracy: 0.0000e+00\n",
      "Epoch 270/500\n",
      "43/43 [==============================] - 6s 128ms/step - loss: 0.0157 - accuracy: 0.1362 - val_loss: 0.1428 - val_accuracy: 0.0000e+00\n",
      "Epoch 271/500\n",
      "43/43 [==============================] - 6s 128ms/step - loss: 0.0166 - accuracy: 0.1362 - val_loss: 0.1430 - val_accuracy: 0.0000e+00\n",
      "Epoch 272/500\n",
      "43/43 [==============================] - 6s 141ms/step - loss: 0.0146 - accuracy: 0.1362 - val_loss: 0.1418 - val_accuracy: 0.0000e+00\n",
      "Epoch 273/500\n",
      "43/43 [==============================] - 6s 140ms/step - loss: 0.0145 - accuracy: 0.1362 - val_loss: 0.1422 - val_accuracy: 0.0000e+00\n",
      "Epoch 274/500\n",
      "43/43 [==============================] - 6s 145ms/step - loss: 0.0150 - accuracy: 0.1362 - val_loss: 0.1388 - val_accuracy: 0.0000e+00\n",
      "Epoch 275/500\n",
      "43/43 [==============================] - 6s 137ms/step - loss: 0.0135 - accuracy: 0.1362 - val_loss: 0.1408 - val_accuracy: 0.0000e+00\n",
      "Epoch 276/500\n"
     ]
    },
    {
     "name": "stdout",
     "output_type": "stream",
     "text": [
      "43/43 [==============================] - 6s 133ms/step - loss: 0.0146 - accuracy: 0.1362 - val_loss: 0.1429 - val_accuracy: 0.0000e+00\n",
      "Epoch 277/500\n",
      "43/43 [==============================] - 6s 134ms/step - loss: 0.0158 - accuracy: 0.1362 - val_loss: 0.1447 - val_accuracy: 0.0000e+00\n",
      "Epoch 278/500\n",
      "43/43 [==============================] - 5s 120ms/step - loss: 0.0147 - accuracy: 0.1362 - val_loss: 0.1442 - val_accuracy: 0.0000e+00\n",
      "Epoch 279/500\n",
      "43/43 [==============================] - 5s 124ms/step - loss: 0.0143 - accuracy: 0.1362 - val_loss: 0.1377 - val_accuracy: 0.0000e+00\n",
      "Epoch 280/500\n",
      "43/43 [==============================] - 5s 125ms/step - loss: 0.0131 - accuracy: 0.1362 - val_loss: 0.1458 - val_accuracy: 0.0000e+00\n",
      "Epoch 281/500\n",
      "43/43 [==============================] - 5s 125ms/step - loss: 0.0159 - accuracy: 0.1362 - val_loss: 0.1417 - val_accuracy: 0.0000e+00\n",
      "Epoch 282/500\n",
      "43/43 [==============================] - 5s 126ms/step - loss: 0.0141 - accuracy: 0.1362 - val_loss: 0.1416 - val_accuracy: 0.0000e+00\n",
      "Epoch 283/500\n",
      "43/43 [==============================] - 5s 125ms/step - loss: 0.0137 - accuracy: 0.1362 - val_loss: 0.1399 - val_accuracy: 0.0000e+00\n",
      "Epoch 284/500\n",
      "43/43 [==============================] - 6s 129ms/step - loss: 0.0139 - accuracy: 0.1362 - val_loss: 0.1399 - val_accuracy: 0.0000e+00\n",
      "Epoch 285/500\n",
      "43/43 [==============================] - 5s 125ms/step - loss: 0.0159 - accuracy: 0.1362 - val_loss: 0.1413 - val_accuracy: 0.0000e+00\n",
      "Epoch 286/500\n",
      "43/43 [==============================] - 5s 123ms/step - loss: 0.0109 - accuracy: 0.1362 - val_loss: 0.1398 - val_accuracy: 0.0000e+00\n",
      "Epoch 287/500\n",
      "43/43 [==============================] - 5s 127ms/step - loss: 0.0137 - accuracy: 0.1362 - val_loss: 0.1382 - val_accuracy: 0.0000e+00\n",
      "Epoch 288/500\n",
      "43/43 [==============================] - 5s 127ms/step - loss: 0.0135 - accuracy: 0.1362 - val_loss: 0.1456 - val_accuracy: 0.0000e+00\n",
      "Epoch 289/500\n",
      "43/43 [==============================] - 5s 127ms/step - loss: 0.0125 - accuracy: 0.1362 - val_loss: 0.1378 - val_accuracy: 0.0000e+00\n",
      "Epoch 290/500\n",
      "43/43 [==============================] - 6s 129ms/step - loss: 0.0143 - accuracy: 0.1362 - val_loss: 0.1479 - val_accuracy: 0.0000e+00\n",
      "Epoch 291/500\n",
      "43/43 [==============================] - 6s 133ms/step - loss: 0.0143 - accuracy: 0.1362 - val_loss: 0.1418 - val_accuracy: 0.0000e+00\n",
      "Epoch 292/500\n",
      "43/43 [==============================] - 6s 138ms/step - loss: 0.0128 - accuracy: 0.1362 - val_loss: 0.1441 - val_accuracy: 0.0000e+00\n",
      "Epoch 293/500\n",
      "43/43 [==============================] - 5s 126ms/step - loss: 0.0118 - accuracy: 0.1362 - val_loss: 0.1419 - val_accuracy: 0.0000e+00\n",
      "Epoch 294/500\n",
      "43/43 [==============================] - 6s 132ms/step - loss: 0.0132 - accuracy: 0.1362 - val_loss: 0.1447 - val_accuracy: 0.0000e+00\n",
      "Epoch 295/500\n",
      "43/43 [==============================] - 5s 127ms/step - loss: 0.0146 - accuracy: 0.1362 - val_loss: 0.1429 - val_accuracy: 0.0000e+00\n",
      "Epoch 296/500\n",
      "43/43 [==============================] - 5s 124ms/step - loss: 0.0143 - accuracy: 0.1362 - val_loss: 0.1416 - val_accuracy: 0.0000e+00\n",
      "Epoch 297/500\n",
      "43/43 [==============================] - 5s 126ms/step - loss: 0.0141 - accuracy: 0.1362 - val_loss: 0.1409 - val_accuracy: 0.0000e+00\n",
      "Epoch 298/500\n",
      "43/43 [==============================] - 5s 119ms/step - loss: 0.0116 - accuracy: 0.1362 - val_loss: 0.1452 - val_accuracy: 0.0000e+00\n",
      "Epoch 299/500\n",
      "43/43 [==============================] - 5s 125ms/step - loss: 0.0120 - accuracy: 0.1362 - val_loss: 0.1406 - val_accuracy: 0.0000e+00\n",
      "Epoch 300/500\n",
      "43/43 [==============================] - 5s 125ms/step - loss: 0.0158 - accuracy: 0.1362 - val_loss: 0.1461 - val_accuracy: 0.0000e+00\n",
      "Epoch 301/500\n",
      "43/43 [==============================] - 5s 124ms/step - loss: 0.0140 - accuracy: 0.1362 - val_loss: 0.1388 - val_accuracy: 0.0000e+00\n",
      "Epoch 302/500\n",
      "43/43 [==============================] - 6s 131ms/step - loss: 0.0113 - accuracy: 0.1362 - val_loss: 0.1486 - val_accuracy: 0.0000e+00\n",
      "Epoch 303/500\n",
      "43/43 [==============================] - 5s 125ms/step - loss: 0.0128 - accuracy: 0.1362 - val_loss: 0.1454 - val_accuracy: 0.0000e+00\n",
      "Epoch 304/500\n",
      "43/43 [==============================] - 5s 127ms/step - loss: 0.0143 - accuracy: 0.1362 - val_loss: 0.1424 - val_accuracy: 0.0000e+00\n",
      "Epoch 305/500\n",
      "43/43 [==============================] - 6s 133ms/step - loss: 0.0126 - accuracy: 0.1362 - val_loss: 0.1437 - val_accuracy: 0.0000e+00\n",
      "Epoch 306/500\n",
      "43/43 [==============================] - 6s 129ms/step - loss: 0.0107 - accuracy: 0.1362 - val_loss: 0.1389 - val_accuracy: 0.0000e+00\n",
      "Epoch 307/500\n",
      "43/43 [==============================] - 5s 126ms/step - loss: 0.0119 - accuracy: 0.1362 - val_loss: 0.1454 - val_accuracy: 0.0000e+00\n",
      "Epoch 308/500\n",
      "43/43 [==============================] - 5s 125ms/step - loss: 0.0140 - accuracy: 0.1362 - val_loss: 0.1466 - val_accuracy: 0.0000e+00\n",
      "Epoch 309/500\n",
      "43/43 [==============================] - 5s 125ms/step - loss: 0.0136 - accuracy: 0.1362 - val_loss: 0.1445 - val_accuracy: 0.0000e+00\n",
      "Epoch 310/500\n",
      "43/43 [==============================] - 6s 128ms/step - loss: 0.0108 - accuracy: 0.1362 - val_loss: 0.1451 - val_accuracy: 0.0000e+00\n",
      "Epoch 311/500\n",
      "43/43 [==============================] - 6s 128ms/step - loss: 0.0099 - accuracy: 0.1362 - val_loss: 0.1403 - val_accuracy: 0.0000e+00\n",
      "Epoch 312/500\n",
      "43/43 [==============================] - 6s 133ms/step - loss: 0.0107 - accuracy: 0.1362 - val_loss: 0.1397 - val_accuracy: 0.0000e+00\n",
      "Epoch 313/500\n",
      "43/43 [==============================] - 6s 136ms/step - loss: 0.0116 - accuracy: 0.1362 - val_loss: 0.1435 - val_accuracy: 0.0000e+00\n",
      "Epoch 314/500\n",
      "43/43 [==============================] - 6s 135ms/step - loss: 0.0137 - accuracy: 0.1362 - val_loss: 0.1436 - val_accuracy: 0.0000e+00\n",
      "Epoch 315/500\n",
      "43/43 [==============================] - 6s 128ms/step - loss: 0.0115 - accuracy: 0.1362 - val_loss: 0.1507 - val_accuracy: 0.0000e+00\n",
      "Epoch 316/500\n",
      "43/43 [==============================] - 6s 129ms/step - loss: 0.0103 - accuracy: 0.1362 - val_loss: 0.1437 - val_accuracy: 0.0000e+00\n",
      "Epoch 317/500\n",
      "43/43 [==============================] - 6s 134ms/step - loss: 0.0130 - accuracy: 0.1362 - val_loss: 0.1456 - val_accuracy: 0.0000e+00\n",
      "Epoch 318/500\n",
      "43/43 [==============================] - 6s 131ms/step - loss: 0.0110 - accuracy: 0.1362 - val_loss: 0.1530 - val_accuracy: 0.0000e+00\n",
      "Epoch 319/500\n",
      "43/43 [==============================] - 6s 131ms/step - loss: 0.0130 - accuracy: 0.1362 - val_loss: 0.1503 - val_accuracy: 0.0000e+00\n",
      "Epoch 320/500\n",
      "43/43 [==============================] - 5s 126ms/step - loss: 0.0116 - accuracy: 0.1362 - val_loss: 0.1496 - val_accuracy: 0.0000e+00\n",
      "Epoch 321/500\n",
      "43/43 [==============================] - 5s 124ms/step - loss: 0.0114 - accuracy: 0.1362 - val_loss: 0.1409 - val_accuracy: 0.0000e+00\n",
      "Epoch 322/500\n",
      "43/43 [==============================] - 6s 130ms/step - loss: 0.0100 - accuracy: 0.1362 - val_loss: 0.1346 - val_accuracy: 0.0000e+00\n",
      "Epoch 323/500\n",
      "43/43 [==============================] - 6s 129ms/step - loss: 0.0132 - accuracy: 0.1362 - val_loss: 0.1438 - val_accuracy: 0.0000e+00\n",
      "Epoch 324/500\n",
      "43/43 [==============================] - 7s 157ms/step - loss: 0.0102 - accuracy: 0.1362 - val_loss: 0.1442 - val_accuracy: 0.0000e+00\n",
      "Epoch 325/500\n",
      "43/43 [==============================] - 7s 161ms/step - loss: 0.0116 - accuracy: 0.1362 - val_loss: 0.1467 - val_accuracy: 0.0000e+00\n",
      "Epoch 326/500\n",
      "43/43 [==============================] - 6s 143ms/step - loss: 0.0115 - accuracy: 0.1362 - val_loss: 0.1443 - val_accuracy: 0.0000e+00\n",
      "Epoch 327/500\n",
      "43/43 [==============================] - 6s 130ms/step - loss: 0.0103 - accuracy: 0.1362 - val_loss: 0.1436 - val_accuracy: 0.0000e+00\n",
      "Epoch 328/500\n",
      "43/43 [==============================] - 6s 130ms/step - loss: 0.0104 - accuracy: 0.1362 - val_loss: 0.1454 - val_accuracy: 0.0000e+00\n",
      "Epoch 329/500\n",
      "43/43 [==============================] - 6s 131ms/step - loss: 0.0096 - accuracy: 0.1362 - val_loss: 0.1421 - val_accuracy: 0.0000e+00\n",
      "Epoch 330/500\n",
      "43/43 [==============================] - 6s 132ms/step - loss: 0.0107 - accuracy: 0.1362 - val_loss: 0.1440 - val_accuracy: 0.0000e+00\n",
      "Epoch 331/500\n"
     ]
    },
    {
     "name": "stdout",
     "output_type": "stream",
     "text": [
      "43/43 [==============================] - 5s 126ms/step - loss: 0.0107 - accuracy: 0.1362 - val_loss: 0.1453 - val_accuracy: 0.0000e+00\n",
      "Epoch 332/500\n",
      "43/43 [==============================] - 6s 128ms/step - loss: 0.0122 - accuracy: 0.1362 - val_loss: 0.1476 - val_accuracy: 0.0000e+00\n",
      "Epoch 333/500\n",
      "43/43 [==============================] - 5s 127ms/step - loss: 0.0123 - accuracy: 0.1362 - val_loss: 0.1462 - val_accuracy: 0.0000e+00\n",
      "Epoch 334/500\n",
      "43/43 [==============================] - 6s 133ms/step - loss: 0.0092 - accuracy: 0.1362 - val_loss: 0.1401 - val_accuracy: 0.0000e+00\n",
      "Epoch 335/500\n",
      "43/43 [==============================] - 6s 129ms/step - loss: 0.0114 - accuracy: 0.1362 - val_loss: 0.1400 - val_accuracy: 0.0000e+00\n",
      "Epoch 336/500\n",
      "43/43 [==============================] - 6s 139ms/step - loss: 0.0085 - accuracy: 0.1362 - val_loss: 0.1454 - val_accuracy: 0.0000e+00\n",
      "Epoch 337/500\n",
      "43/43 [==============================] - 6s 128ms/step - loss: 0.0093 - accuracy: 0.1362 - val_loss: 0.1422 - val_accuracy: 0.0000e+00\n",
      "Epoch 338/500\n",
      "43/43 [==============================] - 6s 141ms/step - loss: 0.0089 - accuracy: 0.1362 - val_loss: 0.1507 - val_accuracy: 0.0000e+00\n",
      "Epoch 339/500\n",
      "43/43 [==============================] - 5s 125ms/step - loss: 0.0101 - accuracy: 0.1362 - val_loss: 0.1483 - val_accuracy: 0.0000e+00\n",
      "Epoch 340/500\n",
      "43/43 [==============================] - 5s 126ms/step - loss: 0.0103 - accuracy: 0.1362 - val_loss: 0.1382 - val_accuracy: 0.0000e+00\n",
      "Epoch 341/500\n",
      "43/43 [==============================] - 5s 125ms/step - loss: 0.0091 - accuracy: 0.1362 - val_loss: 0.1483 - val_accuracy: 0.0000e+00\n",
      "Epoch 342/500\n",
      "43/43 [==============================] - 6s 129ms/step - loss: 0.0104 - accuracy: 0.1362 - val_loss: 0.1456 - val_accuracy: 0.0000e+00\n",
      "Epoch 343/500\n",
      "43/43 [==============================] - 6s 129ms/step - loss: 0.0096 - accuracy: 0.1362 - val_loss: 0.1465 - val_accuracy: 0.0000e+00\n",
      "Epoch 344/500\n",
      "43/43 [==============================] - 6s 129ms/step - loss: 0.0087 - accuracy: 0.1362 - val_loss: 0.1438 - val_accuracy: 0.0000e+00\n",
      "Epoch 345/500\n",
      "43/43 [==============================] - 5s 123ms/step - loss: 0.0113 - accuracy: 0.1362 - val_loss: 0.1491 - val_accuracy: 0.0000e+00\n",
      "Epoch 346/500\n",
      "43/43 [==============================] - 5s 126ms/step - loss: 0.0080 - accuracy: 0.1362 - val_loss: 0.1427 - val_accuracy: 0.0000e+00\n",
      "Epoch 347/500\n",
      "43/43 [==============================] - 6s 135ms/step - loss: 0.0086 - accuracy: 0.1362 - val_loss: 0.1449 - val_accuracy: 0.0000e+00\n",
      "Epoch 348/500\n",
      "43/43 [==============================] - 5s 126ms/step - loss: 0.0084 - accuracy: 0.1362 - val_loss: 0.1414 - val_accuracy: 0.0000e+00\n",
      "Epoch 349/500\n",
      "43/43 [==============================] - 5s 127ms/step - loss: 0.0085 - accuracy: 0.1362 - val_loss: 0.1464 - val_accuracy: 0.0000e+00\n",
      "Epoch 350/500\n",
      "43/43 [==============================] - 5s 124ms/step - loss: 0.0104 - accuracy: 0.1362 - val_loss: 0.1418 - val_accuracy: 0.0000e+00\n",
      "Epoch 351/500\n",
      "43/43 [==============================] - 5s 125ms/step - loss: 0.0087 - accuracy: 0.1362 - val_loss: 0.1444 - val_accuracy: 0.0000e+00\n",
      "Epoch 352/500\n",
      "43/43 [==============================] - 6s 129ms/step - loss: 0.0113 - accuracy: 0.1362 - val_loss: 0.1422 - val_accuracy: 0.0000e+00\n",
      "Epoch 353/500\n",
      "43/43 [==============================] - 6s 129ms/step - loss: 0.0081 - accuracy: 0.1362 - val_loss: 0.1463 - val_accuracy: 0.0000e+00\n",
      "Epoch 354/500\n",
      "43/43 [==============================] - 5s 126ms/step - loss: 0.0090 - accuracy: 0.1362 - val_loss: 0.1409 - val_accuracy: 0.0000e+00\n",
      "Epoch 355/500\n",
      "43/43 [==============================] - 6s 130ms/step - loss: 0.0100 - accuracy: 0.1362 - val_loss: 0.1509 - val_accuracy: 0.0000e+00\n",
      "Epoch 356/500\n",
      "43/43 [==============================] - 5s 127ms/step - loss: 0.0078 - accuracy: 0.1362 - val_loss: 0.1438 - val_accuracy: 0.0000e+00\n",
      "Epoch 357/500\n",
      "43/43 [==============================] - 5s 128ms/step - loss: 0.0079 - accuracy: 0.1362 - val_loss: 0.1475 - val_accuracy: 0.0000e+00\n",
      "Epoch 358/500\n",
      "43/43 [==============================] - 6s 131ms/step - loss: 0.0101 - accuracy: 0.1362 - val_loss: 0.1460 - val_accuracy: 0.0000e+00\n",
      "Epoch 359/500\n",
      "43/43 [==============================] - 6s 133ms/step - loss: 0.0087 - accuracy: 0.1362 - val_loss: 0.1429 - val_accuracy: 0.0000e+00\n",
      "Epoch 360/500\n",
      "43/43 [==============================] - 6s 134ms/step - loss: 0.0091 - accuracy: 0.1362 - val_loss: 0.1470 - val_accuracy: 0.0000e+00\n",
      "Epoch 361/500\n",
      "43/43 [==============================] - 6s 128ms/step - loss: 0.0083 - accuracy: 0.1362 - val_loss: 0.1418 - val_accuracy: 0.0000e+00\n",
      "Epoch 362/500\n",
      "43/43 [==============================] - 5s 127ms/step - loss: 0.0116 - accuracy: 0.1362 - val_loss: 0.1514 - val_accuracy: 0.0000e+00\n",
      "Epoch 363/500\n",
      "43/43 [==============================] - 6s 133ms/step - loss: 0.0080 - accuracy: 0.1362 - val_loss: 0.1443 - val_accuracy: 0.0000e+00\n",
      "Epoch 364/500\n",
      "43/43 [==============================] - 6s 130ms/step - loss: 0.0073 - accuracy: 0.1362 - val_loss: 0.1452 - val_accuracy: 0.0000e+00\n",
      "Epoch 365/500\n",
      "43/43 [==============================] - 5s 127ms/step - loss: 0.0085 - accuracy: 0.1362 - val_loss: 0.1447 - val_accuracy: 0.0000e+00\n",
      "Epoch 366/500\n",
      "43/43 [==============================] - 6s 130ms/step - loss: 0.0083 - accuracy: 0.1362 - val_loss: 0.1439 - val_accuracy: 0.0000e+00\n",
      "Epoch 367/500\n",
      "43/43 [==============================] - 6s 131ms/step - loss: 0.0076 - accuracy: 0.1362 - val_loss: 0.1459 - val_accuracy: 0.0000e+00\n",
      "Epoch 368/500\n",
      "43/43 [==============================] - 6s 142ms/step - loss: 0.0085 - accuracy: 0.1362 - val_loss: 0.1458 - val_accuracy: 0.0000e+00\n",
      "Epoch 369/500\n",
      "43/43 [==============================] - 6s 131ms/step - loss: 0.0082 - accuracy: 0.1362 - val_loss: 0.1503 - val_accuracy: 0.0000e+00\n",
      "Epoch 370/500\n",
      "43/43 [==============================] - 6s 132ms/step - loss: 0.0079 - accuracy: 0.1362 - val_loss: 0.1388 - val_accuracy: 0.0000e+00\n",
      "Epoch 371/500\n",
      "43/43 [==============================] - 6s 131ms/step - loss: 0.0097 - accuracy: 0.1362 - val_loss: 0.1440 - val_accuracy: 0.0000e+00\n",
      "Epoch 372/500\n",
      "43/43 [==============================] - 6s 129ms/step - loss: 0.0076 - accuracy: 0.1362 - val_loss: 0.1437 - val_accuracy: 0.0000e+00\n",
      "Epoch 373/500\n",
      "43/43 [==============================] - 6s 130ms/step - loss: 0.0081 - accuracy: 0.1362 - val_loss: 0.1445 - val_accuracy: 0.0000e+00\n",
      "Epoch 374/500\n",
      "43/43 [==============================] - 6s 133ms/step - loss: 0.0083 - accuracy: 0.1362 - val_loss: 0.1442 - val_accuracy: 0.0000e+00\n",
      "Epoch 375/500\n",
      "43/43 [==============================] - 6s 131ms/step - loss: 0.0071 - accuracy: 0.1362 - val_loss: 0.1429 - val_accuracy: 0.0000e+00\n",
      "Epoch 376/500\n",
      "43/43 [==============================] - 6s 134ms/step - loss: 0.0084 - accuracy: 0.1362 - val_loss: 0.1528 - val_accuracy: 0.0000e+00\n",
      "Epoch 377/500\n",
      "43/43 [==============================] - 6s 137ms/step - loss: 0.0084 - accuracy: 0.1362 - val_loss: 0.1459 - val_accuracy: 0.0000e+00\n",
      "Epoch 378/500\n",
      "43/43 [==============================] - 6s 134ms/step - loss: 0.0081 - accuracy: 0.1362 - val_loss: 0.1471 - val_accuracy: 0.0000e+00\n",
      "Epoch 379/500\n",
      "43/43 [==============================] - 6s 137ms/step - loss: 0.0076 - accuracy: 0.1362 - val_loss: 0.1440 - val_accuracy: 0.0000e+00\n",
      "Epoch 380/500\n",
      "43/43 [==============================] - 6s 135ms/step - loss: 0.0077 - accuracy: 0.1362 - val_loss: 0.1507 - val_accuracy: 0.0000e+00\n",
      "Epoch 381/500\n",
      "43/43 [==============================] - 6s 135ms/step - loss: 0.0071 - accuracy: 0.1362 - val_loss: 0.1420 - val_accuracy: 0.0000e+00\n",
      "Epoch 382/500\n",
      "43/43 [==============================] - 6s 146ms/step - loss: 0.0073 - accuracy: 0.1362 - val_loss: 0.1431 - val_accuracy: 0.0000e+00\n",
      "Epoch 383/500\n",
      "43/43 [==============================] - 5s 127ms/step - loss: 0.0057 - accuracy: 0.1362 - val_loss: 0.1394 - val_accuracy: 0.0000e+00\n",
      "Epoch 384/500\n",
      "43/43 [==============================] - 6s 130ms/step - loss: 0.0076 - accuracy: 0.1362 - val_loss: 0.1451 - val_accuracy: 0.0000e+00\n",
      "Epoch 385/500\n",
      "43/43 [==============================] - 6s 128ms/step - loss: 0.0065 - accuracy: 0.1362 - val_loss: 0.1444 - val_accuracy: 0.0000e+00\n",
      "Epoch 386/500\n"
     ]
    },
    {
     "name": "stdout",
     "output_type": "stream",
     "text": [
      "43/43 [==============================] - 5s 123ms/step - loss: 0.0065 - accuracy: 0.1362 - val_loss: 0.1459 - val_accuracy: 0.0000e+00\n",
      "Epoch 387/500\n",
      "43/43 [==============================] - 6s 137ms/step - loss: 0.0066 - accuracy: 0.1362 - val_loss: 0.1437 - val_accuracy: 0.0000e+00\n",
      "Epoch 388/500\n",
      "43/43 [==============================] - 6s 129ms/step - loss: 0.0058 - accuracy: 0.1362 - val_loss: 0.1425 - val_accuracy: 0.0000e+00\n",
      "Epoch 389/500\n",
      "43/43 [==============================] - 6s 135ms/step - loss: 0.0071 - accuracy: 0.1362 - val_loss: 0.1449 - val_accuracy: 0.0000e+00\n",
      "Epoch 390/500\n",
      "43/43 [==============================] - 6s 129ms/step - loss: 0.0067 - accuracy: 0.1362 - val_loss: 0.1450 - val_accuracy: 0.0000e+00\n",
      "Epoch 391/500\n",
      "43/43 [==============================] - 6s 129ms/step - loss: 0.0059 - accuracy: 0.1362 - val_loss: 0.1482 - val_accuracy: 0.0000e+00\n",
      "Epoch 392/500\n",
      "43/43 [==============================] - 5s 123ms/step - loss: 0.0068 - accuracy: 0.1362 - val_loss: 0.1451 - val_accuracy: 0.0000e+00\n",
      "Epoch 393/500\n",
      "43/43 [==============================] - 5s 126ms/step - loss: 0.0071 - accuracy: 0.1362 - val_loss: 0.1484 - val_accuracy: 0.0000e+00\n",
      "Epoch 394/500\n",
      "43/43 [==============================] - 6s 133ms/step - loss: 0.0062 - accuracy: 0.1362 - val_loss: 0.1490 - val_accuracy: 0.0000e+00\n",
      "Epoch 395/500\n",
      "43/43 [==============================] - 6s 128ms/step - loss: 0.0056 - accuracy: 0.1362 - val_loss: 0.1399 - val_accuracy: 0.0000e+00\n",
      "Epoch 396/500\n",
      "43/43 [==============================] - 6s 130ms/step - loss: 0.0076 - accuracy: 0.1362 - val_loss: 0.1461 - val_accuracy: 0.0000e+00\n",
      "Epoch 397/500\n",
      "43/43 [==============================] - 6s 133ms/step - loss: 0.0058 - accuracy: 0.1362 - val_loss: 0.1485 - val_accuracy: 0.0000e+00\n",
      "Epoch 398/500\n",
      "43/43 [==============================] - 5s 126ms/step - loss: 0.0066 - accuracy: 0.1362 - val_loss: 0.1468 - val_accuracy: 0.0000e+00\n",
      "Epoch 399/500\n",
      "43/43 [==============================] - 5s 127ms/step - loss: 0.0055 - accuracy: 0.1362 - val_loss: 0.1425 - val_accuracy: 0.0000e+00\n",
      "Epoch 400/500\n",
      "43/43 [==============================] - 6s 128ms/step - loss: 0.0064 - accuracy: 0.1362 - val_loss: 0.1449 - val_accuracy: 0.0000e+00\n",
      "Epoch 401/500\n",
      "43/43 [==============================] - 5s 127ms/step - loss: 0.0061 - accuracy: 0.1362 - val_loss: 0.1463 - val_accuracy: 0.0000e+00\n",
      "Epoch 402/500\n",
      "43/43 [==============================] - 5s 128ms/step - loss: 0.0063 - accuracy: 0.1362 - val_loss: 0.1465 - val_accuracy: 0.0000e+00\n",
      "Epoch 403/500\n",
      "43/43 [==============================] - 5s 126ms/step - loss: 0.0065 - accuracy: 0.1362 - val_loss: 0.1472 - val_accuracy: 0.0000e+00\n",
      "Epoch 404/500\n",
      "43/43 [==============================] - 6s 133ms/step - loss: 0.0065 - accuracy: 0.1362 - val_loss: 0.1496 - val_accuracy: 0.0000e+00\n",
      "Epoch 405/500\n",
      "43/43 [==============================] - 6s 133ms/step - loss: 0.0068 - accuracy: 0.1362 - val_loss: 0.1480 - val_accuracy: 0.0000e+00\n",
      "Epoch 406/500\n",
      "43/43 [==============================] - 6s 129ms/step - loss: 0.0074 - accuracy: 0.1362 - val_loss: 0.1473 - val_accuracy: 0.0000e+00\n",
      "Epoch 407/500\n",
      "43/43 [==============================] - 6s 130ms/step - loss: 0.0066 - accuracy: 0.1362 - val_loss: 0.1420 - val_accuracy: 0.0000e+00\n",
      "Epoch 408/500\n",
      "43/43 [==============================] - 6s 129ms/step - loss: 0.0068 - accuracy: 0.1362 - val_loss: 0.1509 - val_accuracy: 0.0000e+00\n",
      "Epoch 409/500\n",
      "43/43 [==============================] - 6s 129ms/step - loss: 0.0060 - accuracy: 0.1362 - val_loss: 0.1489 - val_accuracy: 0.0000e+00\n",
      "Epoch 410/500\n",
      "43/43 [==============================] - 6s 136ms/step - loss: 0.0052 - accuracy: 0.1362 - val_loss: 0.1462 - val_accuracy: 0.0000e+00\n",
      "Epoch 411/500\n",
      "43/43 [==============================] - 6s 139ms/step - loss: 0.0064 - accuracy: 0.1362 - val_loss: 0.1519 - val_accuracy: 0.0000e+00\n",
      "Epoch 412/500\n",
      "43/43 [==============================] - 6s 143ms/step - loss: 0.0058 - accuracy: 0.1362 - val_loss: 0.1485 - val_accuracy: 0.0000e+00\n",
      "Epoch 413/500\n",
      "43/43 [==============================] - 6s 136ms/step - loss: 0.0066 - accuracy: 0.1362 - val_loss: 0.1437 - val_accuracy: 0.0000e+00\n",
      "Epoch 414/500\n",
      "43/43 [==============================] - 5s 128ms/step - loss: 0.0058 - accuracy: 0.1362 - val_loss: 0.1429 - val_accuracy: 0.0000e+00\n",
      "Epoch 415/500\n",
      "43/43 [==============================] - 6s 131ms/step - loss: 0.0051 - accuracy: 0.1362 - val_loss: 0.1486 - val_accuracy: 0.0000e+00\n",
      "Epoch 416/500\n",
      "43/43 [==============================] - 6s 129ms/step - loss: 0.0058 - accuracy: 0.1362 - val_loss: 0.1498 - val_accuracy: 0.0000e+00\n",
      "Epoch 417/500\n",
      "43/43 [==============================] - 6s 136ms/step - loss: 0.0049 - accuracy: 0.1362 - val_loss: 0.1407 - val_accuracy: 0.0000e+00\n",
      "Epoch 418/500\n",
      "43/43 [==============================] - 6s 139ms/step - loss: 0.0058 - accuracy: 0.1362 - val_loss: 0.1482 - val_accuracy: 0.0000e+00\n",
      "Epoch 419/500\n",
      "43/43 [==============================] - 6s 133ms/step - loss: 0.0060 - accuracy: 0.1362 - val_loss: 0.1528 - val_accuracy: 0.0000e+00\n",
      "Epoch 420/500\n",
      "43/43 [==============================] - 6s 132ms/step - loss: 0.0048 - accuracy: 0.1362 - val_loss: 0.1476 - val_accuracy: 0.0000e+00\n",
      "Epoch 421/500\n",
      "43/43 [==============================] - 5s 124ms/step - loss: 0.0051 - accuracy: 0.1362 - val_loss: 0.1441 - val_accuracy: 0.0000e+00\n",
      "Epoch 422/500\n",
      "43/43 [==============================] - 5s 127ms/step - loss: 0.0052 - accuracy: 0.1362 - val_loss: 0.1469 - val_accuracy: 0.0000e+00\n",
      "Epoch 423/500\n",
      "43/43 [==============================] - 6s 129ms/step - loss: 0.0042 - accuracy: 0.1362 - val_loss: 0.1445 - val_accuracy: 0.0000e+00\n",
      "Epoch 424/500\n",
      "43/43 [==============================] - 5s 124ms/step - loss: 0.0058 - accuracy: 0.1362 - val_loss: 0.1482 - val_accuracy: 0.0000e+00\n",
      "Epoch 425/500\n",
      "43/43 [==============================] - 5s 127ms/step - loss: 0.0064 - accuracy: 0.1362 - val_loss: 0.1484 - val_accuracy: 0.0000e+00\n",
      "Epoch 426/500\n",
      "43/43 [==============================] - 6s 129ms/step - loss: 0.0057 - accuracy: 0.1362 - val_loss: 0.1455 - val_accuracy: 0.0000e+00\n",
      "Epoch 427/500\n",
      "43/43 [==============================] - 5s 126ms/step - loss: 0.0066 - accuracy: 0.1362 - val_loss: 0.1476 - val_accuracy: 0.0000e+00\n",
      "Epoch 428/500\n",
      "43/43 [==============================] - 5s 127ms/step - loss: 0.0044 - accuracy: 0.1362 - val_loss: 0.1464 - val_accuracy: 0.0000e+00\n",
      "Epoch 429/500\n",
      "43/43 [==============================] - 6s 146ms/step - loss: 0.0053 - accuracy: 0.1362 - val_loss: 0.1467 - val_accuracy: 0.0000e+00\n",
      "Epoch 430/500\n",
      "43/43 [==============================] - 6s 139ms/step - loss: 0.0049 - accuracy: 0.1362 - val_loss: 0.1429 - val_accuracy: 0.0000e+00\n",
      "Epoch 431/500\n",
      "43/43 [==============================] - 6s 133ms/step - loss: 0.0050 - accuracy: 0.1362 - val_loss: 0.1480 - val_accuracy: 0.0000e+00\n",
      "Epoch 432/500\n",
      "43/43 [==============================] - 6s 135ms/step - loss: 0.0048 - accuracy: 0.1362 - val_loss: 0.1447 - val_accuracy: 0.0000e+00\n",
      "Epoch 433/500\n",
      "43/43 [==============================] - 6s 139ms/step - loss: 0.0051 - accuracy: 0.1362 - val_loss: 0.1491 - val_accuracy: 0.0000e+00\n",
      "Epoch 434/500\n",
      "43/43 [==============================] - 6s 140ms/step - loss: 0.0049 - accuracy: 0.1362 - val_loss: 0.1477 - val_accuracy: 0.0000e+00\n",
      "Epoch 435/500\n",
      "43/43 [==============================] - 6s 137ms/step - loss: 0.0050 - accuracy: 0.1362 - val_loss: 0.1476 - val_accuracy: 0.0000e+00\n",
      "Epoch 436/500\n",
      "43/43 [==============================] - 6s 136ms/step - loss: 0.0040 - accuracy: 0.1362 - val_loss: 0.1454 - val_accuracy: 0.0000e+00\n",
      "Epoch 437/500\n",
      "43/43 [==============================] - 5s 125ms/step - loss: 0.0042 - accuracy: 0.1362 - val_loss: 0.1509 - val_accuracy: 0.0000e+00\n",
      "Epoch 438/500\n",
      "43/43 [==============================] - 6s 129ms/step - loss: 0.0055 - accuracy: 0.1362 - val_loss: 0.1481 - val_accuracy: 0.0000e+00\n",
      "Epoch 439/500\n",
      "43/43 [==============================] - 5s 126ms/step - loss: 0.0042 - accuracy: 0.1362 - val_loss: 0.1497 - val_accuracy: 0.0000e+00\n",
      "Epoch 440/500\n",
      "43/43 [==============================] - 6s 149ms/step - loss: 0.0039 - accuracy: 0.1362 - val_loss: 0.1496 - val_accuracy: 0.0000e+00\n",
      "Epoch 441/500\n"
     ]
    },
    {
     "name": "stdout",
     "output_type": "stream",
     "text": [
      "43/43 [==============================] - 5s 125ms/step - loss: 0.0044 - accuracy: 0.1362 - val_loss: 0.1457 - val_accuracy: 0.0000e+00\n",
      "Epoch 442/500\n",
      "43/43 [==============================] - 5s 124ms/step - loss: 0.0050 - accuracy: 0.1362 - val_loss: 0.1421 - val_accuracy: 0.0000e+00\n",
      "Epoch 443/500\n",
      "43/43 [==============================] - 5s 123ms/step - loss: 0.0051 - accuracy: 0.1362 - val_loss: 0.1418 - val_accuracy: 0.0000e+00\n",
      "Epoch 444/500\n",
      "43/43 [==============================] - 6s 130ms/step - loss: 0.0047 - accuracy: 0.1362 - val_loss: 0.1440 - val_accuracy: 0.0000e+00\n",
      "Epoch 445/500\n",
      "43/43 [==============================] - 6s 129ms/step - loss: 0.0042 - accuracy: 0.1362 - val_loss: 0.1450 - val_accuracy: 0.0000e+00\n",
      "Epoch 446/500\n",
      "43/43 [==============================] - 5s 126ms/step - loss: 0.0052 - accuracy: 0.1362 - val_loss: 0.1484 - val_accuracy: 0.0000e+00\n",
      "Epoch 447/500\n",
      "43/43 [==============================] - 5s 126ms/step - loss: 0.0044 - accuracy: 0.1362 - val_loss: 0.1500 - val_accuracy: 0.0000e+00\n",
      "Epoch 448/500\n",
      "43/43 [==============================] - 6s 129ms/step - loss: 0.0042 - accuracy: 0.1362 - val_loss: 0.1502 - val_accuracy: 0.0000e+00\n",
      "Epoch 449/500\n",
      "43/43 [==============================] - 6s 129ms/step - loss: 0.0043 - accuracy: 0.1362 - val_loss: 0.1432 - val_accuracy: 0.0000e+00\n",
      "Epoch 450/500\n",
      "43/43 [==============================] - 5s 126ms/step - loss: 0.0037 - accuracy: 0.1362 - val_loss: 0.1442 - val_accuracy: 0.0000e+00\n",
      "Epoch 451/500\n",
      "43/43 [==============================] - 6s 134ms/step - loss: 0.0038 - accuracy: 0.1362 - val_loss: 0.1465 - val_accuracy: 0.0000e+00\n",
      "Epoch 452/500\n",
      "43/43 [==============================] - 5s 126ms/step - loss: 0.0049 - accuracy: 0.1362 - val_loss: 0.1469 - val_accuracy: 0.0000e+00\n",
      "Epoch 453/500\n",
      "43/43 [==============================] - 8s 179ms/step - loss: 0.0044 - accuracy: 0.1362 - val_loss: 0.1470 - val_accuracy: 0.0000e+00\n",
      "Epoch 454/500\n",
      "43/43 [==============================] - 8s 177ms/step - loss: 0.0038 - accuracy: 0.1362 - val_loss: 0.1542 - val_accuracy: 0.0000e+00\n",
      "Epoch 455/500\n",
      "43/43 [==============================] - 7s 163ms/step - loss: 0.0038 - accuracy: 0.1362 - val_loss: 0.1453 - val_accuracy: 0.0000e+00\n",
      "Epoch 456/500\n",
      "43/43 [==============================] - 8s 190ms/step - loss: 0.0046 - accuracy: 0.1362 - val_loss: 0.1464 - val_accuracy: 0.0000e+00\n",
      "Epoch 457/500\n",
      "43/43 [==============================] - 6s 136ms/step - loss: 0.0036 - accuracy: 0.1362 - val_loss: 0.1483 - val_accuracy: 0.0000e+00\n",
      "Epoch 458/500\n",
      "43/43 [==============================] - 6s 141ms/step - loss: 0.0033 - accuracy: 0.1362 - val_loss: 0.1499 - val_accuracy: 0.0000e+00\n",
      "Epoch 459/500\n",
      "43/43 [==============================] - 6s 137ms/step - loss: 0.0044 - accuracy: 0.1362 - val_loss: 0.1501 - val_accuracy: 0.0000e+00\n",
      "Epoch 460/500\n",
      "43/43 [==============================] - 6s 134ms/step - loss: 0.0035 - accuracy: 0.1362 - val_loss: 0.1532 - val_accuracy: 0.0000e+00\n",
      "Epoch 461/500\n",
      "43/43 [==============================] - 6s 136ms/step - loss: 0.0036 - accuracy: 0.1362 - val_loss: 0.1474 - val_accuracy: 0.0000e+00\n",
      "Epoch 462/500\n",
      "43/43 [==============================] - 6s 138ms/step - loss: 0.0036 - accuracy: 0.1362 - val_loss: 0.1435 - val_accuracy: 0.0000e+00\n",
      "Epoch 463/500\n",
      "43/43 [==============================] - 6s 143ms/step - loss: 0.0038 - accuracy: 0.1362 - val_loss: 0.1482 - val_accuracy: 0.0000e+00\n",
      "Epoch 464/500\n",
      "43/43 [==============================] - 6s 146ms/step - loss: 0.0040 - accuracy: 0.1362 - val_loss: 0.1484 - val_accuracy: 0.0000e+00\n",
      "Epoch 465/500\n",
      "43/43 [==============================] - 6s 147ms/step - loss: 0.0039 - accuracy: 0.1362 - val_loss: 0.1460 - val_accuracy: 0.0000e+00\n",
      "Epoch 466/500\n",
      "43/43 [==============================] - 8s 191ms/step - loss: 0.0029 - accuracy: 0.1362 - val_loss: 0.1453 - val_accuracy: 0.0000e+00\n",
      "Epoch 467/500\n",
      "43/43 [==============================] - 6s 140ms/step - loss: 0.0031 - accuracy: 0.1362 - val_loss: 0.1477 - val_accuracy: 0.0000e+00\n",
      "Epoch 468/500\n",
      "43/43 [==============================] - 7s 152ms/step - loss: 0.0038 - accuracy: 0.1362 - val_loss: 0.1476 - val_accuracy: 0.0000e+00\n",
      "Epoch 469/500\n",
      "43/43 [==============================] - 7s 154ms/step - loss: 0.0030 - accuracy: 0.1362 - val_loss: 0.1465 - val_accuracy: 0.0000e+00\n",
      "Epoch 470/500\n",
      "43/43 [==============================] - 6s 141ms/step - loss: 0.0028 - accuracy: 0.1362 - val_loss: 0.1493 - val_accuracy: 0.0000e+00\n",
      "Epoch 471/500\n",
      "43/43 [==============================] - 5s 123ms/step - loss: 0.0029 - accuracy: 0.1362 - val_loss: 0.1461 - val_accuracy: 0.0000e+00\n",
      "Epoch 472/500\n",
      "43/43 [==============================] - 5s 125ms/step - loss: 0.0033 - accuracy: 0.1362 - val_loss: 0.1455 - val_accuracy: 0.0000e+00\n",
      "Epoch 473/500\n",
      "43/43 [==============================] - 7s 173ms/step - loss: 0.0031 - accuracy: 0.1362 - val_loss: 0.1509 - val_accuracy: 0.0000e+00\n",
      "Epoch 474/500\n",
      "43/43 [==============================] - 5s 127ms/step - loss: 0.0030 - accuracy: 0.1362 - val_loss: 0.1507 - val_accuracy: 0.0000e+00\n",
      "Epoch 475/500\n",
      "43/43 [==============================] - 5s 126ms/step - loss: 0.0034 - accuracy: 0.1362 - val_loss: 0.1472 - val_accuracy: 0.0000e+00\n",
      "Epoch 476/500\n",
      "43/43 [==============================] - 5s 125ms/step - loss: 0.0030 - accuracy: 0.1362 - val_loss: 0.1469 - val_accuracy: 0.0000e+00\n",
      "Epoch 477/500\n",
      "43/43 [==============================] - 5s 119ms/step - loss: 0.0032 - accuracy: 0.1362 - val_loss: 0.1487 - val_accuracy: 0.0000e+00\n",
      "Epoch 478/500\n",
      "43/43 [==============================] - 6s 133ms/step - loss: 0.0030 - accuracy: 0.1362 - val_loss: 0.1470 - val_accuracy: 0.0000e+00\n",
      "Epoch 479/500\n",
      "43/43 [==============================] - 6s 130ms/step - loss: 0.0027 - accuracy: 0.1362 - val_loss: 0.1467 - val_accuracy: 0.0000e+00\n",
      "Epoch 480/500\n",
      "43/43 [==============================] - 6s 137ms/step - loss: 0.0030 - accuracy: 0.1362 - val_loss: 0.1498 - val_accuracy: 0.0000e+00\n",
      "Epoch 481/500\n",
      "43/43 [==============================] - 6s 138ms/step - loss: 0.0038 - accuracy: 0.1362 - val_loss: 0.1510 - val_accuracy: 0.0000e+00\n",
      "Epoch 482/500\n",
      "43/43 [==============================] - 7s 152ms/step - loss: 0.0032 - accuracy: 0.1362 - val_loss: 0.1475 - val_accuracy: 0.0000e+00\n",
      "Epoch 483/500\n",
      "43/43 [==============================] - 7s 165ms/step - loss: 0.0033 - accuracy: 0.1362 - val_loss: 0.1475 - val_accuracy: 0.0000e+00\n",
      "Epoch 484/500\n",
      "43/43 [==============================] - 6s 139ms/step - loss: 0.0032 - accuracy: 0.1362 - val_loss: 0.1509 - val_accuracy: 0.0000e+00\n",
      "Epoch 485/500\n",
      "43/43 [==============================] - 5s 128ms/step - loss: 0.0026 - accuracy: 0.1362 - val_loss: 0.1473 - val_accuracy: 0.0000e+00\n",
      "Epoch 486/500\n",
      "43/43 [==============================] - 6s 147ms/step - loss: 0.0033 - accuracy: 0.1362 - val_loss: 0.1516 - val_accuracy: 0.0000e+00\n",
      "Epoch 487/500\n",
      "43/43 [==============================] - 9s 199ms/step - loss: 0.0024 - accuracy: 0.1362 - val_loss: 0.1468 - val_accuracy: 0.0000e+00\n",
      "Epoch 488/500\n",
      "43/43 [==============================] - 9s 213ms/step - loss: 0.0026 - accuracy: 0.1362 - val_loss: 0.1499 - val_accuracy: 0.0000e+00\n",
      "Epoch 489/500\n",
      "43/43 [==============================] - 9s 210ms/step - loss: 0.0029 - accuracy: 0.1362 - val_loss: 0.1513 - val_accuracy: 0.0000e+00\n",
      "Epoch 490/500\n",
      "43/43 [==============================] - 9s 202ms/step - loss: 0.0031 - accuracy: 0.1362 - val_loss: 0.1485 - val_accuracy: 0.0000e+00\n",
      "Epoch 491/500\n",
      "43/43 [==============================] - 9s 208ms/step - loss: 0.0025 - accuracy: 0.1362 - val_loss: 0.1496 - val_accuracy: 0.0000e+00\n",
      "Epoch 492/500\n",
      "43/43 [==============================] - 8s 188ms/step - loss: 0.0026 - accuracy: 0.1362 - val_loss: 0.1510 - val_accuracy: 0.0000e+00\n",
      "Epoch 493/500\n",
      "43/43 [==============================] - 7s 163ms/step - loss: 0.0024 - accuracy: 0.1362 - val_loss: 0.1468 - val_accuracy: 0.0000e+00\n",
      "Epoch 494/500\n",
      "43/43 [==============================] - 7s 170ms/step - loss: 0.0025 - accuracy: 0.1362 - val_loss: 0.1490 - val_accuracy: 0.0000e+00\n",
      "Epoch 495/500\n",
      "43/43 [==============================] - 6s 139ms/step - loss: 0.0025 - accuracy: 0.1362 - val_loss: 0.1492 - val_accuracy: 0.0000e+00\n",
      "Epoch 496/500\n"
     ]
    },
    {
     "name": "stdout",
     "output_type": "stream",
     "text": [
      "43/43 [==============================] - 6s 143ms/step - loss: 0.0029 - accuracy: 0.1362 - val_loss: 0.1465 - val_accuracy: 0.0000e+00\n",
      "Epoch 497/500\n",
      "43/43 [==============================] - 6s 139ms/step - loss: 0.0028 - accuracy: 0.1362 - val_loss: 0.1468 - val_accuracy: 0.0000e+00\n",
      "Epoch 498/500\n",
      "43/43 [==============================] - 8s 180ms/step - loss: 0.0026 - accuracy: 0.1362 - val_loss: 0.1513 - val_accuracy: 0.0000e+00\n",
      "Epoch 499/500\n",
      "43/43 [==============================] - 7s 158ms/step - loss: 0.0023 - accuracy: 0.1362 - val_loss: 0.1473 - val_accuracy: 0.0000e+00\n",
      "Epoch 500/500\n",
      "43/43 [==============================] - 8s 177ms/step - loss: 0.0020 - accuracy: 0.1362 - val_loss: 0.1509 - val_accuracy: 0.0000e+00\n"
     ]
    }
   ],
   "source": [
    "history = model.fit(Train_X, Train_Y, epochs=500, batch_size=5, validation_data=(Test_X, Test_Y))"
   ]
  },
  {
   "cell_type": "code",
   "execution_count": 21,
   "metadata": {},
   "outputs": [],
   "source": [
    "predictions = model.predict(Test_X) \n",
    "predictions = SC.inverse_transform(predictions)"
   ]
  },
  {
   "cell_type": "code",
   "execution_count": 22,
   "metadata": {
    "scrolled": true
   },
   "outputs": [
    {
     "name": "stderr",
     "output_type": "stream",
     "text": [
      "C:\\Users\\asifi\\anaconda3\\envs\\cmdpython37\\lib\\site-packages\\ipykernel_launcher.py:3: SettingWithCopyWarning: \n",
      "A value is trying to be set on a copy of a slice from a DataFrame.\n",
      "Try using .loc[row_indexer,col_indexer] = value instead\n",
      "\n",
      "See the caveats in the documentation: https://pandas.pydata.org/pandas-docs/stable/user_guide/indexing.html#returning-a-view-versus-a-copy\n",
      "  This is separate from the ipykernel package so we can avoid doing imports until\n"
     ]
    }
   ],
   "source": [
    "train = Data[:Training_Data]\n",
    "validation = Data[Training_Data:]\n",
    "validation['Predictions'] = predictions"
   ]
  },
  {
   "cell_type": "code",
   "execution_count": 24,
   "metadata": {},
   "outputs": [
    {
     "data": {
      "image/png": "[encoded data removed]",
      "text/plain": [
       "<Figure size 1152x576 with 1 Axes>"
      ]
     },
     "metadata": {
      "needs_background": "light"
     },
     "output_type": "display_data"
    }
   ],
   "source": [
    "plt.figure(figsize=(16,8))\n",
    "plt.title('Nordrhein-Westfalen LSTM Model Recovered Rate Prediction')\n",
    "plt.xlabel('Date', fontsize=18)\n",
    "plt.ylabel('Recovered Rate (%)', fontsize=18)\n",
    "plt.plot(train['recovered_rate'])\n",
    "plt.plot(validation[['recovered_rate', 'Predictions']])\n",
    "plt.legend(['Train', 'Test', 'Predictions'], loc='upper right')\n",
    "plt.savefig('Nordrhein-Westfalen LSTM Model Recovered Rate Prediction.png',dpi=50)\n",
    "plt.show()"
   ]
  },
  {
   "cell_type": "code",
   "execution_count": 25,
   "metadata": {},
   "outputs": [
    {
     "data": {
      "text/html": [
       "<div>\n",
       "<style scoped>\n",
       "    .dataframe tbody tr th:only-of-type {\n",
       "        vertical-align: middle;\n",
       "    }\n",
       "\n",
       "    .dataframe tbody tr th {\n",
       "        vertical-align: top;\n",
       "    }\n",
       "\n",
       "    .dataframe thead th {\n",
       "        text-align: right;\n",
       "    }\n",
       "</style>\n",
       "<table border=\"1\" class=\"dataframe\">\n",
       "  <thead>\n",
       "    <tr style=\"text-align: right;\">\n",
       "      <th></th>\n",
       "      <th>recovered_rate</th>\n",
       "      <th>Predictions</th>\n",
       "    </tr>\n",
       "    <tr>\n",
       "      <th>date</th>\n",
       "      <th></th>\n",
       "      <th></th>\n",
       "    </tr>\n",
       "  </thead>\n",
       "  <tbody>\n",
       "    <tr>\n",
       "      <th>2020-10-17</th>\n",
       "      <td>0.986844</td>\n",
       "      <td>0.976679</td>\n",
       "    </tr>\n",
       "    <tr>\n",
       "      <th>2020-10-18</th>\n",
       "      <td>0.987125</td>\n",
       "      <td>0.976675</td>\n",
       "    </tr>\n",
       "    <tr>\n",
       "      <th>2020-10-19</th>\n",
       "      <td>0.985355</td>\n",
       "      <td>0.976678</td>\n",
       "    </tr>\n",
       "    <tr>\n",
       "      <th>2020-10-20</th>\n",
       "      <td>0.986249</td>\n",
       "      <td>0.976677</td>\n",
       "    </tr>\n",
       "    <tr>\n",
       "      <th>2020-10-21</th>\n",
       "      <td>0.988639</td>\n",
       "      <td>0.976680</td>\n",
       "    </tr>\n",
       "    <tr>\n",
       "      <th>...</th>\n",
       "      <td>...</td>\n",
       "      <td>...</td>\n",
       "    </tr>\n",
       "    <tr>\n",
       "      <th>2020-12-31</th>\n",
       "      <td>0.015440</td>\n",
       "      <td>0.976382</td>\n",
       "    </tr>\n",
       "    <tr>\n",
       "      <th>2021-01-01</th>\n",
       "      <td>0.009055</td>\n",
       "      <td>0.976239</td>\n",
       "    </tr>\n",
       "    <tr>\n",
       "      <th>2021-01-02</th>\n",
       "      <td>0.012827</td>\n",
       "      <td>0.976052</td>\n",
       "    </tr>\n",
       "    <tr>\n",
       "      <th>2021-01-03</th>\n",
       "      <td>0.011091</td>\n",
       "      <td>0.975802</td>\n",
       "    </tr>\n",
       "    <tr>\n",
       "      <th>2021-01-04</th>\n",
       "      <td>0.000000</td>\n",
       "      <td>0.975487</td>\n",
       "    </tr>\n",
       "  </tbody>\n",
       "</table>\n",
       "<p>80 rows × 2 columns</p>\n",
       "</div>"
      ],
      "text/plain": [
       "            recovered_rate  Predictions\n",
       "date                                   \n",
       "2020-10-17        0.986844     0.976679\n",
       "2020-10-18        0.987125     0.976675\n",
       "2020-10-19        0.985355     0.976678\n",
       "2020-10-20        0.986249     0.976677\n",
       "2020-10-21        0.988639     0.976680\n",
       "...                    ...          ...\n",
       "2020-12-31        0.015440     0.976382\n",
       "2021-01-01        0.009055     0.976239\n",
       "2021-01-02        0.012827     0.976052\n",
       "2021-01-03        0.011091     0.975802\n",
       "2021-01-04        0.000000     0.975487\n",
       "\n",
       "[80 rows x 2 columns]"
      ]
     },
     "execution_count": 25,
     "metadata": {},
     "output_type": "execute_result"
    }
   ],
   "source": [
    "validation"
   ]
  },
  {
   "cell_type": "markdown",
   "metadata": {},
   "source": [
    "# Model Evaluation"
   ]
  },
  {
   "cell_type": "code",
   "execution_count": 26,
   "metadata": {
    "scrolled": false
   },
   "outputs": [
    {
     "data": {
      "image/png": "[encoded data removed]",
      "text/plain": [
       "<Figure size 576x360 with 1 Axes>"
      ]
     },
     "metadata": {
      "needs_background": "light"
     },
     "output_type": "display_data"
    }
   ],
   "source": [
    "plt.figure(figsize=(8,5))\n",
    "plt.plot(history.history['loss'])\n",
    "plt.plot(history.history['val_loss'])\n",
    "plt.title('LSTM Model Loss')\n",
    "plt.ylabel('Loss')\n",
    "plt.xlabel('Epoch')\n",
    "plt.legend(['Train', 'Test'], loc='best')\n",
    "plt.savefig('Nordrhein-Westfalen LSTM Model Loss.png',dpi=100)\n",
    "plt.show()"
   ]
  },
  {
   "cell_type": "code",
   "execution_count": 27,
   "metadata": {},
   "outputs": [
    {
     "name": "stdout",
     "output_type": "stream",
     "text": [
      "WARNING:tensorflow:From <ipython-input-27-4bd0630d6226>:2: Sequential.predict_classes (from tensorflow.python.keras.engine.sequential) is deprecated and will be removed after 2021-01-01.\n",
      "Instructions for updating:\n",
      "Please use instead:* `np.argmax(model.predict(x), axis=-1)`,   if your model does multi-class classification   (e.g. if it uses a `softmax` last-layer activation).* `(model.predict(x) > 0.5).astype(\"int32\")`,   if your model does binary classification   (e.g. if it uses a `sigmoid` last-layer activation).\n"
     ]
    }
   ],
   "source": [
    "Probs_Y = model.predict(Test_X)\n",
    "Class_Y = model.predict_classes(Test_X)\n",
    "\n",
    "Probs_Y = Probs_Y[:, 0]\n",
    "Class_Y = Class_Y[:, 0]"
   ]
  },
  {
   "cell_type": "markdown",
   "metadata": {},
   "source": [
    "### Mean Squared Error"
   ]
  },
  {
   "cell_type": "code",
   "execution_count": 28,
   "metadata": {
    "scrolled": true
   },
   "outputs": [
    {
     "name": "stdout",
     "output_type": "stream",
     "text": [
      "Mean Squared Error: 0.150919\n"
     ]
    }
   ],
   "source": [
    "MSE  = mean_squared_error(Test_Y,Probs_Y)\n",
    "print('Mean Squared Error: %f' % MSE)"
   ]
  },
  {
   "cell_type": "markdown",
   "metadata": {},
   "source": [
    "### Root Mean Squared Error"
   ]
  },
  {
   "cell_type": "code",
   "execution_count": 29,
   "metadata": {},
   "outputs": [
    {
     "name": "stdout",
     "output_type": "stream",
     "text": [
      "Root Mean Squared Error: 0.388483\n"
     ]
    }
   ],
   "source": [
    "RMSE = sqrt(MSE)\n",
    "print('Root Mean Squared Error: %f' % RMSE)"
   ]
  },
  {
   "cell_type": "markdown",
   "metadata": {},
   "source": [
    "### Accuracy"
   ]
  },
  {
   "cell_type": "code",
   "execution_count": 30,
   "metadata": {},
   "outputs": [
    {
     "name": "stdout",
     "output_type": "stream",
     "text": [
      "Accuracy: 0.837500\n"
     ]
    }
   ],
   "source": [
    "accuracy = accuracy_score(Test_Y.round(), Class_Y)\n",
    "print('Accuracy: %f' % accuracy)"
   ]
  },
  {
   "cell_type": "markdown",
   "metadata": {},
   "source": [
    "### R^2 score"
   ]
  },
  {
   "cell_type": "code",
   "execution_count": 31,
   "metadata": {
    "scrolled": true
   },
   "outputs": [
    {
     "name": "stdout",
     "output_type": "stream",
     "text": [
      "Score: -0.373925\n"
     ]
    }
   ],
   "source": [
    "r = r2_score(Test_Y,Probs_Y)\n",
    "print('Score: %f' % r)"
   ]
  },
  {
   "cell_type": "markdown",
   "metadata": {},
   "source": [
    "###  Area Under the Receiver Operating Characteristic Curve Score "
   ]
  },
  {
   "cell_type": "code",
   "execution_count": 32,
   "metadata": {},
   "outputs": [
    {
     "name": "stdout",
     "output_type": "stream",
     "text": [
      "ROC AUC: 0.996556\n"
     ]
    }
   ],
   "source": [
    "auc = roc_auc_score(Test_Y.round(), Probs_Y)\n",
    "print('ROC AUC: %f' % auc)"
   ]
  },
  {
   "cell_type": "markdown",
   "metadata": {},
   "source": [
    "### Confusion matrix"
   ]
  },
  {
   "cell_type": "code",
   "execution_count": 33,
   "metadata": {},
   "outputs": [
    {
     "name": "stdout",
     "output_type": "stream",
     "text": [
      "[[ 0 13]\n",
      " [ 0 67]]\n"
     ]
    }
   ],
   "source": [
    "matrix = confusion_matrix(Test_Y.round(), Class_Y)\n",
    "print(matrix)"
   ]
  },
  {
   "cell_type": "markdown",
   "metadata": {},
   "source": [
    "### Precision"
   ]
  },
  {
   "cell_type": "code",
   "execution_count": 34,
   "metadata": {
    "scrolled": true
   },
   "outputs": [
    {
     "name": "stdout",
     "output_type": "stream",
     "text": [
      "Precision: 0.837500\n"
     ]
    }
   ],
   "source": [
    "precision = precision_score(Test_Y.round(), Class_Y)\n",
    "print('Precision: %f' % precision)"
   ]
  },
  {
   "cell_type": "markdown",
   "metadata": {},
   "source": [
    "### Recall"
   ]
  },
  {
   "cell_type": "code",
   "execution_count": 35,
   "metadata": {},
   "outputs": [
    {
     "name": "stdout",
     "output_type": "stream",
     "text": [
      "Recall: 1.000000\n"
     ]
    }
   ],
   "source": [
    "recall = recall_score(Test_Y.round(), Class_Y)\n",
    "print('Recall: %f' % recall)"
   ]
  },
  {
   "cell_type": "markdown",
   "metadata": {},
   "source": [
    "### F1 Score"
   ]
  },
  {
   "cell_type": "code",
   "execution_count": 36,
   "metadata": {},
   "outputs": [
    {
     "name": "stdout",
     "output_type": "stream",
     "text": [
      "F1 score: 0.911565\n"
     ]
    }
   ],
   "source": [
    "f1 = f1_score(Test_Y.round(), Class_Y)\n",
    "print('F1 score: %f' % f1)"
   ]
  }
 ],
 "metadata": {
  "kernelspec": {
   "display_name": "Python 3",
   "language": "python",
   "name": "python3"
  },
  "language_info": {
   "codemirror_mode": {
    "name": "ipython",
    "version": 3
   },
   "file_extension": ".py",
   "mimetype": "text/x-python",
   "name": "python",
   "nbconvert_exporter": "python",
   "pygments_lexer": "ipython3",
   "version": "3.7.9"
  }
 },
 "nbformat": 4,
 "nbformat_minor": 4
}
